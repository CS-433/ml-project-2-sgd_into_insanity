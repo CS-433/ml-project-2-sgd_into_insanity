{
 "cells": [
  {
   "cell_type": "code",
   "execution_count": 20,
   "id": "initial_id",
   "metadata": {
    "collapsed": true,
    "ExecuteTime": {
     "end_time": "2023-11-15T23:05:41.789297300Z",
     "start_time": "2023-11-15T23:05:41.781614900Z"
    }
   },
   "outputs": [],
   "source": [
    "import numpy as np\n",
    "from dipy.core.gradients import gradient_table\n",
    "from dipy.data import get_fnames, default_sphere\n",
    "from dipy.io.gradients import read_bvals_bvecs\n",
    "from dipy.io.image import load_nifti"
   ]
  },
  {
   "cell_type": "markdown",
   "source": [
    "This example shows how to use Constrained Spherical Deconvolution (CSD) introduced by Tournier et al. [Tournier2007].\n",
    "\n",
    "This method is mainly useful with datasets with gradient directions acquired on a spherical grid.\n",
    "\n",
    "The basic idea with this method is that if we could estimate the response function of a single fiber then we could deconvolve the measured signal and obtain the underlying fiber distribution.\n",
    "\n",
    "In this way, the reconstruction of the fiber orientation distribution function (fODF) in CSD involves two steps:\n",
    "\n",
    "Estimation of the fiber response function\n",
    "\n",
    "Use the response function to reconstruct the fODF\n",
    "\n",
    "Let’s first load the data. We will use a dataset with 10 b0s and 150 non-b0s with b-value 2000."
   ],
   "metadata": {
    "collapsed": false
   },
   "id": "b9cab9915628d3ab"
  },
  {
   "cell_type": "code",
   "execution_count": 21,
   "outputs": [],
   "source": [
    "hardi_fname, hardi_bval_fname, hardi_bvec_fname = get_fnames('stanford_hardi')\n",
    "\n",
    "data, affine = load_nifti(hardi_fname)\n",
    "\n",
    "bvals, bvecs = read_bvals_bvecs(hardi_bval_fname, hardi_bvec_fname)\n",
    "gtab = gradient_table(bvals, bvecs)"
   ],
   "metadata": {
    "collapsed": false,
    "ExecuteTime": {
     "end_time": "2023-11-15T23:06:05.616750500Z",
     "start_time": "2023-11-15T23:06:04.140726100Z"
    }
   },
   "id": "371c970757956532"
  },
  {
   "cell_type": "markdown",
   "source": [
    "Step 1. Estimation of the fiber response function\n",
    "There are many strategies to estimate the fiber response function. Here two different strategies are presented.\n",
    "\n",
    "Strategy 1 - response function estimates from a local brain region One simple way to estimate the fiber response function is to look for regions of the brain where it is known that there are single coherent fiber populations. For example, if we use a ROI at the center of the brain, we will find single fibers from the corpus callosum. The auto_response_ssst function will calculate FA for a cuboid ROI of radii equal to roi_radii in the center of the volume and return the response function estimated in that region for the voxels with FA higher than 0.7."
   ],
   "metadata": {
    "collapsed": false
   },
   "id": "a871d4fc3c664870"
  },
  {
   "cell_type": "code",
   "execution_count": 22,
   "outputs": [],
   "source": [
    "from dipy.reconst.csdeconv import (auto_response_ssst,\n",
    "                                   mask_for_response_ssst,\n",
    "                                   response_from_mask_ssst)\n",
    "\n",
    "response, ratio = auto_response_ssst(gtab, data, roi_radii=10, fa_thr=0.7)"
   ],
   "metadata": {
    "collapsed": false,
    "ExecuteTime": {
     "end_time": "2023-11-15T23:07:25.958973400Z",
     "start_time": "2023-11-15T23:07:24.923975700Z"
    }
   },
   "id": "ec75c48b7ba54d1c"
  },
  {
   "cell_type": "markdown",
   "source": [
    "Note that the auto_response_ssst function calls two functions that can be used separately. First, the function mask_for_response_ssst creates a mask of voxels within the cuboid ROI that meet the FA threshold constraint. This mask can be used to calculate the number of voxels that were kept, or to also apply an external mask (a WM mask for example). Second, the function response_from_mask_ssst takes the mask and returns the response function calculated within the mask. If no changes are made to the mask between the two calls, the resulting responses should be identical."
   ],
   "metadata": {
    "collapsed": false
   },
   "id": "d8764ad0a67dba66"
  },
  {
   "cell_type": "code",
   "execution_count": 23,
   "outputs": [
    {
     "name": "stdout",
     "output_type": "stream",
     "text": [
      "1254\n"
     ]
    }
   ],
   "source": [
    "mask = mask_for_response_ssst(gtab, data, roi_radii=10, fa_thr=0.7)\n",
    "nvoxels = np.sum(mask)\n",
    "print(nvoxels)\n",
    "\n",
    "response, ratio = response_from_mask_ssst(gtab, data, mask)"
   ],
   "metadata": {
    "collapsed": false,
    "ExecuteTime": {
     "end_time": "2023-11-15T23:08:19.812229100Z",
     "start_time": "2023-11-15T23:08:18.802446500Z"
    }
   },
   "id": "1d9845744469d95f"
  },
  {
   "cell_type": "markdown",
   "source": [
    "The response tuple contains two elements. The first is an array with the eigenvalues of the response function and the second is the average S0 for this response.\n",
    "\n",
    "It is good practice to always validate the result of auto_response_ssst. For this purpose we can print the elements of response and have a look at their values.\n",
    "\n",
    "The tensor generated from the response must be prolate (two smaller eigenvalues should be equal) and look anisotropic with a ratio of second to first eigenvalue of about 0.2. Or in other words, the axial diffusivity of this tensor should be around 5 times larger than the radial diffusivity."
   ],
   "metadata": {
    "collapsed": false
   },
   "id": "9d69b45316245237"
  },
  {
   "cell_type": "code",
   "execution_count": 24,
   "outputs": [
    {
     "name": "stdout",
     "output_type": "stream",
     "text": [
      "(array([0.00139919, 0.0003007 , 0.0003007 ]), 416.7372408293461)\n",
      "0.21491283972219186\n"
     ]
    }
   ],
   "source": [
    "print(response)\n",
    "print(ratio)"
   ],
   "metadata": {
    "collapsed": false,
    "ExecuteTime": {
     "end_time": "2023-11-15T23:08:36.542808800Z",
     "start_time": "2023-11-15T23:08:36.517857700Z"
    }
   },
   "id": "355eb50456242a51"
  },
  {
   "cell_type": "markdown",
   "source": [
    "We can double-check that we have a good response function by visualizing the response function’s ODF. Here is how you would do that:"
   ],
   "metadata": {
    "collapsed": false
   },
   "id": "cfabf3dcd7dcc163"
  },
  {
   "cell_type": "code",
   "execution_count": 25,
   "outputs": [
    {
     "name": "stdout",
     "output_type": "stream",
     "text": [
      "Saving illustration as csd_response.png\n"
     ]
    }
   ],
   "source": [
    "from dipy.viz import window, actor\n",
    "from dipy.sims.voxel import single_tensor_odf\n",
    "\n",
    "# Enables/disables interactive visualization\n",
    "interactive = False\n",
    "\n",
    "scene = window.Scene()\n",
    "evals = response[0]\n",
    "evecs = np.array([[0, 1, 0], [0, 0, 1], [1, 0, 0]]).T\n",
    "\n",
    "\n",
    "response_odf = single_tensor_odf(default_sphere.vertices, evals, evecs)\n",
    "# transform our data from 1D to 4D\n",
    "response_odf = response_odf[None, None, None, :]\n",
    "response_actor = actor.odf_slicer(response_odf, sphere=default_sphere,\n",
    "                                  colormap='plasma')\n",
    "scene.add(response_actor)\n",
    "print('Saving illustration as csd_response.png')\n",
    "window.record(scene, out_path='csd_response.png', size=(200, 200))\n",
    "if interactive:\n",
    "    window.show(scene)"
   ],
   "metadata": {
    "collapsed": false,
    "ExecuteTime": {
     "end_time": "2023-11-15T23:11:24.622553200Z",
     "start_time": "2023-11-15T23:11:24.298452200Z"
    }
   },
   "id": "97e22b7ac9368468"
  },
  {
   "cell_type": "code",
   "execution_count": 27,
   "outputs": [],
   "source": [
    "#I don't know what that is\n",
    "scene.rm(response_actor)"
   ],
   "metadata": {
    "collapsed": false,
    "ExecuteTime": {
     "end_time": "2023-11-15T23:11:45.651401Z",
     "start_time": "2023-11-15T23:11:45.632452300Z"
    }
   },
   "id": "58b5a469115e626b"
  },
  {
   "cell_type": "markdown",
   "source": [
    "Step 2. fODF reconstruction\n",
    "After estimating a response function, we are ready to start the deconvolution process. Let’s import the CSD model and fit the datasets."
   ],
   "metadata": {
    "collapsed": false
   },
   "id": "830632a5e925bc9a"
  },
  {
   "cell_type": "code",
   "execution_count": 28,
   "outputs": [],
   "source": [
    "from dipy.reconst.csdeconv import ConstrainedSphericalDeconvModel\n",
    "csd_model = ConstrainedSphericalDeconvModel(gtab, response)"
   ],
   "metadata": {
    "collapsed": false,
    "ExecuteTime": {
     "end_time": "2023-11-15T23:13:30.737214Z",
     "start_time": "2023-11-15T23:13:30.709482600Z"
    }
   },
   "id": "574e641e981a661c"
  },
  {
   "cell_type": "markdown",
   "source": [
    "For illustration purposes we will fit only a small portion of the data. \n",
    "Here we visualize a 30x30x20 region:"
   ],
   "metadata": {
    "collapsed": false
   },
   "id": "96b9c0c01abe05b8"
  },
  {
   "cell_type": "code",
   "execution_count": 42,
   "outputs": [
    {
     "name": "stderr",
     "output_type": "stream",
     "text": [
      "100%|██████████| 18000/18000 [00:08<00:00, 2090.22it/s]\n"
     ]
    }
   ],
   "source": [
    "data_small = data[20:50, 55:85, 20:40]\n",
    "csd_fit = csd_model.fit(data_small)"
   ],
   "metadata": {
    "collapsed": false,
    "ExecuteTime": {
     "end_time": "2023-11-15T23:19:25.070205300Z",
     "start_time": "2023-11-15T23:19:16.430947800Z"
    }
   },
   "id": "5fe67c66e2eb1ba"
  },
  {
   "cell_type": "code",
   "execution_count": 43,
   "outputs": [
    {
     "name": "stdout",
     "output_type": "stream",
     "text": [
      "(81, 106, 76, 160)\n",
      "(30, 30, 20, 160)\n"
     ]
    }
   ],
   "source": [
    "print(data.shape)\n",
    "print(data_small.shape)"
   ],
   "metadata": {
    "collapsed": false,
    "ExecuteTime": {
     "end_time": "2023-11-15T23:19:36.064974400Z",
     "start_time": "2023-11-15T23:19:36.054566700Z"
    }
   },
   "id": "1472ba28fc06d891"
  },
  {
   "cell_type": "code",
   "execution_count": 44,
   "outputs": [],
   "source": [
    "#Show the CSD-based ODFs also known as FODFs (fiber ODFs)\n",
    "csd_odf = csd_fit.odf(default_sphere)"
   ],
   "metadata": {
    "collapsed": false,
    "ExecuteTime": {
     "end_time": "2023-11-15T23:19:38.327356600Z",
     "start_time": "2023-11-15T23:19:38.056612Z"
    }
   },
   "id": "d439cf216bb0c94b"
  },
  {
   "cell_type": "code",
   "execution_count": 47,
   "outputs": [
    {
     "name": "stdout",
     "output_type": "stream",
     "text": [
      "Saving illustration as csd_odfs.png\n"
     ]
    }
   ],
   "source": [
    "#Here we visualize a 30x30x20 region:\n",
    "interactive = True\n",
    "fodf_spheres = actor.odf_slicer(csd_odf, sphere=default_sphere, scale=0.9,\n",
    "                                norm=False, colormap='plasma')\n",
    "\n",
    "scene.add(fodf_spheres)\n",
    "\n",
    "print('Saving illustration as csd_odfs.png')\n",
    "window.record(scene, out_path='csd_odfs.png', size=(600, 600))\n",
    "if interactive:\n",
    "    window.show(scene)"
   ],
   "metadata": {
    "collapsed": false,
    "ExecuteTime": {
     "end_time": "2023-11-15T23:21:31.843896Z",
     "start_time": "2023-11-15T23:20:59.034060300Z"
    }
   },
   "id": "a1ab9afd62b1d61c"
  },
  {
   "cell_type": "code",
   "execution_count": 48,
   "outputs": [
    {
     "name": "stdout",
     "output_type": "stream",
     "text": [
      "Saving illustration as csd_peaks.png\n"
     ]
    }
   ],
   "source": [
    "#In DIPY we also provide tools for finding the peak directions (maxima) of the ODFs. For this purpose we recommend using peaks_from_model.\n",
    "interactive = True\n",
    "from dipy.direction import peaks_from_model\n",
    "\n",
    "csd_peaks = peaks_from_model(model=csd_model,\n",
    "                             data=data_small,\n",
    "                             sphere=default_sphere,\n",
    "                             relative_peak_threshold=.5,\n",
    "                             min_separation_angle=25,\n",
    "                             parallel=True,\n",
    "                             num_processes=2)\n",
    "\n",
    "scene.clear()\n",
    "fodf_peaks = actor.peak_slicer(csd_peaks.peak_dirs, csd_peaks.peak_values)\n",
    "scene.add(fodf_peaks)\n",
    "\n",
    "print('Saving illustration as csd_peaks.png')\n",
    "window.record(scene, out_path='csd_peaks.png', size=(600, 600))\n",
    "if interactive:\n",
    "    window.show(scene)"
   ],
   "metadata": {
    "collapsed": false,
    "ExecuteTime": {
     "end_time": "2023-11-15T23:22:13.337834200Z",
     "start_time": "2023-11-15T23:21:44.110240700Z"
    }
   },
   "id": "3e3e70e25054b119"
  }
 ],
 "metadata": {
  "kernelspec": {
   "display_name": "Python 3",
   "language": "python",
   "name": "python3"
  },
  "language_info": {
   "codemirror_mode": {
    "name": "ipython",
    "version": 2
   },
   "file_extension": ".py",
   "mimetype": "text/x-python",
   "name": "python",
   "nbconvert_exporter": "python",
   "pygments_lexer": "ipython2",
   "version": "2.7.6"
  }
 },
 "nbformat": 4,
 "nbformat_minor": 5
}
