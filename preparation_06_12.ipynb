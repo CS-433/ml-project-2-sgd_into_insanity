{
 "cells": [
  {
   "cell_type": "code",
   "execution_count": 20,
   "id": "initial_id",
   "metadata": {
    "collapsed": true,
    "ExecuteTime": {
     "end_time": "2023-12-06T20:52:07.858488900Z",
     "start_time": "2023-12-06T20:52:07.779157700Z"
    }
   },
   "outputs": [],
   "source": [
    "import matplotlib.pyplot as plt\n",
    "import numpy as np\n",
    "import pandas as pd\n",
    "import pickle\n",
    "from scipy.stats import ttest_ind\n",
    "from dipy.core.sphere import disperse_charges, HemiSphere\n",
    "from dipy.core.gradients import gradient_table\n",
    "from dipy.data import get_sphere\n",
    "from dipy.sims.voxel import multi_tensor, multi_tensor_odf, single_tensor_odf\n",
    "from dipy.viz import window, actor\n",
    "from dipy.reconst.csdeconv import mask_for_response_ssst, response_from_mask_ssst\n",
    "import nibabel as nib\n",
    "\n",
    "#SCRIPT\n",
    "\n",
    "import nibabel as nib\n",
    "import numpy as np\n",
    "from numpy.linalg import norm\n",
    "from scipy import stats\n",
    "from math import *\n",
    "import sys, glob, xlwt, os.path, re"
   ]
  },
  {
   "cell_type": "code",
   "execution_count": 7,
   "outputs": [],
   "source": [
    "# Open the file in read mode\n",
    "with open('real_data/hardi-scheme.bvec.txt', 'r') as file:\n",
    "    # Read the lines from the file\n",
    "    lines = file.readlines()\n",
    "\n",
    "# Initialize an empty matrix to store the values\n",
    "real_bvecs = []\n",
    "\n",
    "# Iterate through each line\n",
    "for line in lines:\n",
    "    # Split the line into individual values\n",
    "    values = line.split() \n",
    "    # Convert the values to integers and append to the matrix\n",
    "    real_bvecs.append([float(value) for value in values])\n",
    "\n",
    "# Convert the list of lists into a 2D NumPy array\n",
    "real_bvecs = np.array(real_bvecs).T\n",
    "\n",
    "\n",
    "# Open the file in read mode\n",
    "with open('real_data/hardi-scheme.bval.txt', 'r') as file:\n",
    "    # Read the lines from the file\n",
    "    lines = file.readlines()\n",
    "\n",
    "# Initialize an empty matrix to store the values\n",
    "real_bvals = []\n",
    "\n",
    "# Iterate through each line\n",
    "for line in lines:\n",
    "    # Split the line into individual values\n",
    "    values = line.split() \n",
    "    # Convert the values to integers and append to the matrix\n",
    "    real_bvals.append([float(value) for value in values])\n",
    "\n",
    "# Convert the list of lists into a 2D NumPy array\n",
    "real_bvals = np.array(real_bvals).reshape(-1)\n",
    "\n",
    "gtab = gradient_table(real_bvals, real_bvecs)\n",
    "\n",
    "mask = nib.load('real_data/mask.nii').get_fdata().astype(bool)\n",
    "white_mask = nib.load('real_data/white_matter_mask.nii').get_fdata().astype(bool)\n",
    "\n",
    "hardi_snr10 = nib.load('real_data/DWIS_hardi-scheme_SNR-10.nii').get_fdata()\n",
    "hardi_snr20 = nib.load('real_data/DWIS_hardi-scheme_SNR-20.nii').get_fdata()\n",
    "hardi_snr30 = nib.load('real_data/DWIS_hardi-scheme_SNR-30.nii').get_fdata()\n",
    "\n",
    "hardi_snr10_masked = hardi_snr10[mask]\n",
    "hardi_snr20_masked = hardi_snr20[mask]\n",
    "hardi_snr30_masked = hardi_snr30[mask]\n",
    "hardi_snr10_masked *= (100/hardi_snr10_masked[0][0])\n",
    "hardi_snr20_masked *= hardi_snr20_masked * (100/hardi_snr20_masked[0][0])\n",
    "hardi_snr30_masked *= hardi_snr30_masked * (100/hardi_snr30_masked[0][0])\n",
    "\n",
    "hardi_snr10_white_masked = hardi_snr10[white_mask]\n",
    "hardi_snr20_white_masked = hardi_snr20[white_mask]\n",
    "hardi_snr30_white_masked = hardi_snr30[white_mask]\n",
    "hardi_snr10_white_masked *= (100/hardi_snr10_white_masked[0][0])\n",
    "hardi_snr20_white_masked *= (100/hardi_snr20_white_masked[0][0])\n",
    "hardi_snr30_white_masked *= (100/hardi_snr30_white_masked[0][0])\n",
    "\n",
    "hardi_white_masked_all = np.vstack((hardi_snr10_white_masked, hardi_snr20_white_masked, hardi_snr30_white_masked))\n",
    "np.random.seed(42)\n",
    "np.random.shuffle(hardi_white_masked_all)\n",
    "\n",
    "S = np.load(\"synthetic_data/S.npy\")\n",
    "S_noiseless = np.load(\"synthetic_data/S_noiseless.npy\")\n",
    "F = np.load('synthetic_data/F.npy')\n",
    "angle_pairs = pd.read_pickle(\"synthetic_data/angle_pairs.pkl\")"
   ],
   "metadata": {
    "collapsed": false,
    "ExecuteTime": {
     "end_time": "2023-12-06T19:57:59.275695900Z",
     "start_time": "2023-12-06T19:57:58.503063500Z"
    }
   },
   "id": "5dd27914273e37ce"
  },
  {
   "cell_type": "code",
   "execution_count": 19,
   "outputs": [
    {
     "name": "stdout",
     "output_type": "stream",
     "text": [
      "(array([0.00164641, 0.00038227, 0.00038227]), 32767.0)\n",
      "0.23218691030646116\n"
     ]
    }
   ],
   "source": [
    "sphere = get_sphere('symmetric724')\n",
    "response_mask = mask_for_response_ssst(gtab, hardi_snr30, roi_radii=20, fa_thr=0.7)\n",
    "response, ratio = response_from_mask_ssst(gtab, hardi_snr30, response_mask)\n",
    "print(response)\n",
    "print(ratio)\n",
    "scene = window.Scene()\n",
    "evals = response[0]\n",
    "evecs = np.array([[0, 1, 0], [0, 0, 1], [1, 0, 0]]).T\n",
    "\n",
    "response_odf = single_tensor_odf(sphere.vertices, evals, evecs)\n",
    "# transform our data from 1D to 4D\n",
    "response_odf = response_odf[None, None, None, :]\n",
    "response_actor = actor.odf_slicer(response_odf, sphere=sphere,\n",
    "                                  colormap='plasma')\n",
    "scene.add(response_actor)\n",
    "window.show(scene)\n",
    "scene.rm(response_actor)"
   ],
   "metadata": {
    "collapsed": false,
    "ExecuteTime": {
     "end_time": "2023-12-06T20:19:48.710189Z",
     "start_time": "2023-12-06T20:19:43.123166300Z"
    }
   },
   "id": "e3f42c224d50256d"
  },
  {
   "cell_type": "markdown",
   "source": [
    "UNDERSTANDING THE \"compute_local_metrics.py\" SCRIPT"
   ],
   "metadata": {
    "collapsed": false
   },
   "id": "d69fc1409c670f60"
  },
  {
   "cell_type": "code",
   "execution_count": 24,
   "outputs": [
    {
     "name": "stdout",
     "output_type": "stream",
     "text": [
      "-> opening ground-truth...\n",
      "[OK]\n"
     ]
    }
   ],
   "source": [
    "### load ground-truth directions\n",
    "################################\n",
    "print(\"-> opening ground-truth...\")\n",
    "\n",
    "niiGT = nib.load('real_data/ground-truth-peaks.nii.gz')\n",
    "niiGT_hdr = niiGT.header\n",
    "niiGT_img = niiGT.get_fdata()\n",
    "\n",
    "niiGT_dim = niiGT_hdr.get_data_shape()\n",
    "\n",
    "nx = niiGT_dim[0]\n",
    "ny = niiGT_dim[1]\n",
    "nz = niiGT_dim[2]\n",
    "\n",
    "print(\"[OK]\\n\")"
   ],
   "metadata": {
    "collapsed": false,
    "ExecuteTime": {
     "end_time": "2023-12-06T20:56:54.775519700Z",
     "start_time": "2023-12-06T20:56:54.735623900Z"
    }
   },
   "id": "3ba227d0ac2cb5c7"
  },
  {
   "cell_type": "code",
   "execution_count": 29,
   "outputs": [
    {
     "name": "stdout",
     "output_type": "stream",
     "text": [
      "-> opening binary mask of interest...\n"
     ]
    }
   ],
   "source": [
    "### load mask of interest\n",
    "#########################\n",
    "print(\"-> opening binary mask of interest...\"),\n",
    "\n",
    "niiMASK = nib.load('real_data/white_matter_mask.nii.gz')\n",
    "niiMASK_hdr = niiMASK.header\n",
    "niiMASK_img = niiMASK.get_fdata() # 0-1 mask\n",
    "\n",
    "niiMASK_dim = niiMASK_hdr.get_data_shape()\n",
    "\n",
    "niiMASK_idx = niiMASK_img==1 #Boolean mask\n",
    "\n",
    "print(\"[OK]\\n\")"
   ],
   "metadata": {
    "collapsed": false,
    "ExecuteTime": {
     "end_time": "2023-12-06T20:59:32.741474600Z",
     "start_time": "2023-12-06T20:59:32.691151300Z"
    }
   },
   "id": "69b9cf606d9114fb"
  }
 ],
 "metadata": {
  "kernelspec": {
   "display_name": "Python 3",
   "language": "python",
   "name": "python3"
  },
  "language_info": {
   "codemirror_mode": {
    "name": "ipython",
    "version": 2
   },
   "file_extension": ".py",
   "mimetype": "text/x-python",
   "name": "python",
   "nbconvert_exporter": "python",
   "pygments_lexer": "ipython2",
   "version": "2.7.6"
  }
 },
 "nbformat": 4,
 "nbformat_minor": 5
}
