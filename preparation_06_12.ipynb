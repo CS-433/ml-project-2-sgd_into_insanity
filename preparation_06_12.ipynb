{
 "cells": [
  {
   "cell_type": "code",
   "execution_count": 2,
   "id": "initial_id",
   "metadata": {
    "collapsed": true,
    "ExecuteTime": {
     "end_time": "2023-12-12T09:43:45.711840300Z",
     "start_time": "2023-12-12T09:43:34.497119800Z"
    }
   },
   "outputs": [],
   "source": [
    "import matplotlib.pyplot as plt\n",
    "import numpy as np\n",
    "import pandas as pd\n",
    "import pickle\n",
    "from scipy.stats import ttest_ind\n",
    "from dipy.core.sphere import disperse_charges, HemiSphere\n",
    "from dipy.core.gradients import gradient_table\n",
    "from dipy.data import get_sphere\n",
    "from dipy.sims.voxel import multi_tensor, multi_tensor_odf, single_tensor_odf\n",
    "from dipy.viz import window, actor\n",
    "from dipy.reconst.csdeconv import mask_for_response_ssst, response_from_mask_ssst\n",
    "import nibabel as nib\n",
    "\n",
    "#SCRIPT\n",
    "\n",
    "import nibabel as nib\n",
    "import numpy as np\n",
    "from numpy.linalg import norm\n",
    "from scipy import stats\n",
    "from math import *\n",
    "import sys, glob, xlwt, os.path, re"
   ]
  },
  {
   "cell_type": "code",
   "execution_count": 7,
   "outputs": [],
   "source": [
    "# Open the file in read mode\n",
    "with open('real_data/hardi-scheme.bvec.txt', 'r') as file:\n",
    "    # Read the lines from the file\n",
    "    lines = file.readlines()\n",
    "\n",
    "# Initialize an empty matrix to store the values\n",
    "real_bvecs = []\n",
    "\n",
    "# Iterate through each line\n",
    "for line in lines:\n",
    "    # Split the line into individual values\n",
    "    values = line.split() \n",
    "    # Convert the values to integers and append to the matrix\n",
    "    real_bvecs.append([float(value) for value in values])\n",
    "\n",
    "# Convert the list of lists into a 2D NumPy array\n",
    "real_bvecs = np.array(real_bvecs).T\n",
    "\n",
    "\n",
    "# Open the file in read mode\n",
    "with open('real_data/hardi-scheme.bval.txt', 'r') as file:\n",
    "    # Read the lines from the file\n",
    "    lines = file.readlines()\n",
    "\n",
    "# Initialize an empty matrix to store the values\n",
    "real_bvals = []\n",
    "\n",
    "# Iterate through each line\n",
    "for line in lines:\n",
    "    # Split the line into individual values\n",
    "    values = line.split() \n",
    "    # Convert the values to integers and append to the matrix\n",
    "    real_bvals.append([float(value) for value in values])\n",
    "\n",
    "# Convert the list of lists into a 2D NumPy array\n",
    "real_bvals = np.array(real_bvals).reshape(-1)\n",
    "\n",
    "gtab = gradient_table(real_bvals, real_bvecs)\n",
    "\n",
    "mask = nib.load('real_data/mask.nii').get_fdata().astype(bool)\n",
    "white_mask = nib.load('real_data/white_matter_mask.nii').get_fdata().astype(bool)\n",
    "\n",
    "hardi_snr10 = nib.load('real_data/DWIS_hardi-scheme_SNR-10.nii').get_fdata()\n",
    "hardi_snr20 = nib.load('real_data/DWIS_hardi-scheme_SNR-20.nii').get_fdata()\n",
    "hardi_snr30 = nib.load('real_data/DWIS_hardi-scheme_SNR-30.nii').get_fdata()\n",
    "\n",
    "hardi_snr10_masked = hardi_snr10[mask]\n",
    "hardi_snr20_masked = hardi_snr20[mask]\n",
    "hardi_snr30_masked = hardi_snr30[mask]\n",
    "hardi_snr10_masked *= (100/hardi_snr10_masked[0][0])\n",
    "hardi_snr20_masked *= hardi_snr20_masked * (100/hardi_snr20_masked[0][0])\n",
    "hardi_snr30_masked *= hardi_snr30_masked * (100/hardi_snr30_masked[0][0])\n",
    "\n",
    "hardi_snr10_white_masked = hardi_snr10[white_mask]\n",
    "hardi_snr20_white_masked = hardi_snr20[white_mask]\n",
    "hardi_snr30_white_masked = hardi_snr30[white_mask]\n",
    "hardi_snr10_white_masked *= (100/hardi_snr10_white_masked[0][0])\n",
    "hardi_snr20_white_masked *= (100/hardi_snr20_white_masked[0][0])\n",
    "hardi_snr30_white_masked *= (100/hardi_snr30_white_masked[0][0])\n",
    "\n",
    "hardi_white_masked_all = np.vstack((hardi_snr10_white_masked, hardi_snr20_white_masked, hardi_snr30_white_masked))\n",
    "np.random.seed(42)\n",
    "np.random.shuffle(hardi_white_masked_all)\n",
    "\n",
    "S = np.load(\"synthetic_data/S.npy\")\n",
    "S_noiseless = np.load(\"synthetic_data/S_noiseless.npy\")\n",
    "F = np.load('synthetic_data/F.npy')\n",
    "angle_pairs = pd.read_pickle(\"synthetic_data/angle_pairs.pkl\")"
   ],
   "metadata": {
    "collapsed": false,
    "ExecuteTime": {
     "end_time": "2023-12-06T19:57:59.275695900Z",
     "start_time": "2023-12-06T19:57:58.503063500Z"
    }
   },
   "id": "5dd27914273e37ce"
  },
  {
   "cell_type": "code",
   "execution_count": 19,
   "outputs": [
    {
     "name": "stdout",
     "output_type": "stream",
     "text": [
      "(array([0.00164641, 0.00038227, 0.00038227]), 32767.0)\n",
      "0.23218691030646116\n"
     ]
    }
   ],
   "source": [
    "sphere = get_sphere('symmetric724')\n",
    "response_mask = mask_for_response_ssst(gtab, hardi_snr30, roi_radii=20, fa_thr=0.7)\n",
    "response, ratio = response_from_mask_ssst(gtab, hardi_snr30, response_mask)\n",
    "print(response)\n",
    "print(ratio)\n",
    "scene = window.Scene()\n",
    "evals = response[0]\n",
    "evecs = np.array([[0, 1, 0], [0, 0, 1], [1, 0, 0]]).T\n",
    "\n",
    "response_odf = single_tensor_odf(sphere.vertices, evals, evecs)\n",
    "# transform our data from 1D to 4D\n",
    "response_odf = response_odf[None, None, None, :]\n",
    "response_actor = actor.odf_slicer(response_odf, sphere=sphere,\n",
    "                                  colormap='plasma')\n",
    "scene.add(response_actor)\n",
    "window.show(scene)\n",
    "scene.rm(response_actor)"
   ],
   "metadata": {
    "collapsed": false,
    "ExecuteTime": {
     "end_time": "2023-12-06T20:19:48.710189Z",
     "start_time": "2023-12-06T20:19:43.123166300Z"
    }
   },
   "id": "e3f42c224d50256d"
  },
  {
   "cell_type": "markdown",
   "source": [
    "UNDERSTANDING THE \"compute_local_metrics.py\" SCRIPT"
   ],
   "metadata": {
    "collapsed": false
   },
   "id": "d69fc1409c670f60"
  },
  {
   "cell_type": "code",
   "execution_count": 24,
   "outputs": [
    {
     "name": "stdout",
     "output_type": "stream",
     "text": [
      "-> opening ground-truth...\n",
      "[OK]\n"
     ]
    }
   ],
   "source": [
    "### load ground-truth directions\n",
    "################################\n",
    "print(\"-> opening ground-truth...\")\n",
    "\n",
    "niiGT = nib.load('real_data/ground-truth-peaks.nii.gz')\n",
    "niiGT_hdr = niiGT.header\n",
    "niiGT_img = niiGT.get_fdata()\n",
    "\n",
    "niiGT_dim = niiGT_hdr.get_data_shape()\n",
    "\n",
    "nx = niiGT_dim[0]\n",
    "ny = niiGT_dim[1]\n",
    "nz = niiGT_dim[2]\n",
    "\n",
    "print(\"[OK]\\n\")"
   ],
   "metadata": {
    "collapsed": false,
    "ExecuteTime": {
     "end_time": "2023-12-06T20:56:54.775519700Z",
     "start_time": "2023-12-06T20:56:54.735623900Z"
    }
   },
   "id": "3ba227d0ac2cb5c7"
  },
  {
   "cell_type": "code",
   "execution_count": 29,
   "outputs": [
    {
     "name": "stdout",
     "output_type": "stream",
     "text": [
      "-> opening binary mask of interest...\n"
     ]
    }
   ],
   "source": [
    "### load mask of interest\n",
    "#########################\n",
    "print(\"-> opening binary mask of interest...\"),\n",
    "\n",
    "niiMASK = nib.load('real_data/white_matter_mask.nii.gz')\n",
    "niiMASK_hdr = niiMASK.header\n",
    "niiMASK_img = niiMASK.get_fdata() # 0-1 mask\n",
    "\n",
    "niiMASK_dim = niiMASK_hdr.get_data_shape()\n",
    "\n",
    "niiMASK_idx = niiMASK_img==1 #Boolean mask\n",
    "\n",
    "print(\"[OK]\\n\")"
   ],
   "metadata": {
    "collapsed": false,
    "ExecuteTime": {
     "end_time": "2023-12-06T20:59:32.741474600Z",
     "start_time": "2023-12-06T20:59:32.691151300Z"
    }
   },
   "id": "69b9cf606d9114fb"
  },
  {
   "cell_type": "code",
   "execution_count": 1,
   "outputs": [],
   "source": [
    "import pandas as pd"
   ],
   "metadata": {
    "collapsed": false,
    "ExecuteTime": {
     "end_time": "2023-12-11T18:26:33.513410400Z",
     "start_time": "2023-12-11T18:26:32.837411600Z"
    }
   },
   "id": "e87a172fc668e4a4"
  },
  {
   "cell_type": "code",
   "execution_count": 2,
   "outputs": [],
   "source": [
    "angle_pairs = pd.read_pickle(\"synthetic_data/angle_pairs.pkl\")"
   ],
   "metadata": {
    "collapsed": false,
    "ExecuteTime": {
     "end_time": "2023-12-11T18:26:34.637865600Z",
     "start_time": "2023-12-11T18:26:34.607260400Z"
    }
   },
   "id": "12d6458a2e5cc45f"
  },
  {
   "cell_type": "code",
   "execution_count": 3,
   "outputs": [
    {
     "name": "stdout",
     "output_type": "stream",
     "text": [
      "[(86.35289061629949, 164.67971184861608), (78.26037341234078, 157.42585221843626), (20.86621192637322, -28.948069478035848), (52.809562048566825, -8.955654047064344), (76.77581076817995, -64.39586382077414), (57.15381058153167, -53.32792488737147), (54.73987552935679, -35.6981081580442), (63.59812437750721, -5.407817724097641), (86.10474540623034, 117.39916318744284), (51.34239816612954, -158.21479284164442), (86.95117323911015, 88.59829520428002), (62.2309196004447, -172.0368820739597), (73.14844129342923, -103.1373924820191), (88.42257643749772, -137.03600746959495), (55.65948212908443, 4.944921121159132), (71.54112382571455, -164.55421204907762), (70.24571679614154, -114.2984983152024), (88.17676902273881, 65.28930087534702), (64.52182803545436, -96.36690282688276), (68.4625811214182, -125.3228241761383), (68.48501320908652, 63.36144896146067), (82.54424341245328, -163.4287394179697), (60.685447716563885, 163.73343610148962), (89.00505925821409, 175.33097260558378), (71.07567795677708, -137.770902277313), (77.48100843148927, 82.65273282403217), (87.53840579603386, 101.4482567498524), (70.72004767590212, 19.246604379796874), (38.063736249231575, -48.58375261544103), (80.47002594610306, -144.19706916031967), (23.024902606612873, -1.4360988636788903), (39.16030709682845, 83.29553426519404), (74.59687530833521, -1.428177726468074), (55.93848938546579, -145.55106780271072), (59.39028243940937, 107.44004602771946), (84.3946756514218, -173.93101200840306), (77.53766606896932, 70.59392944870528), (44.85553586066805, -91.80558662665261), (48.813485333544065, 92.4099687641677), (64.15573863973063, -30.635759153598833), (73.4659415268305, -25.281991316470553), (31.85247201917963, -146.12331762738364), (56.53783342600789, -79.02709653233512), (22.105422524129395, -158.63945413594027), (50.96193906144742, -23.215755679069403), (14.860910165052289, -58.1217340236848), (45.73030540266396, -117.84731324661546), (48.37148917248452, -45.7884791981398), (87.02374143147385, 140.95041322842735), (44.80876598690061, 2.1934147890738354), (61.05456950547624, -108.26912181877715), (37.73438011714938, 135.04650622380913), (38.798398638057094, -131.2956551084712), (66.67393823639192, -147.94068309606578), (19.40367392112148, 140.08862575570217), (83.41808892469616, -44.55581054555076), (18.290738740292102, 34.71704419842632), (76.90641361741604, 134.25111828243305), (44.543495159215595, -145.3461672737312), (29.459984671015075, 148.9111522200546), (75.738849277781, -154.02153012243565), (22.137830833436848, -129.44587834633563), (50.858985127064315, -105.27948103911838), (60.02999522205204, 18.145223211583613), (83.4198136098934, -97.55363512631568), (66.7755542282877, -83.27812333639777), (47.89529916915701, 141.34572402604132), (87.80690420788943, 152.3795226730713), (50.173968796766786, -131.69714575927281), (79.18085853637702, 108.65409956431498), (69.64842350413274, 101.91163241193775), (31.704991387346563, -23.65927985411494), (67.31522641848528, 140.27641904777326), (38.42866737325783, 117.00457375684906), (82.59574454887851, -32.72485322828252), (78.2935391342074, 95.40660143618406), (57.18617365830027, -66.49182318534103), (86.35165043789476, -69.89733169994014), (60.691314329725145, -133.84527348106388), (47.86717959797106, 125.00426282236096), (35.78294527091375, -66.77456225605658), (59.89728837887996, 54.85109930637296), (70.55615058401338, 50.80164620499155), (57.175917634826384, 133.5600229009525), (45.24533042812613, 168.73552337122862), (79.27825000340057, -130.90492037663128), (58.26269106017733, 147.31129209973304), (38.46000970043741, 16.69702791033655), (73.71341887566308, -175.57029521398195), (74.20383143297899, -50.61186903336565), (87.74583437570695, -153.2390195095374), (81.24545152326876, 47.28751051095343), (41.62802339973269, 48.66124344457454), (65.87392309823012, 176.00086855629866), (67.52739949723234, 153.58007531171603), (27.937714917767156, 122.79911177746332), (25.920132536292904, -98.76086974412772), (55.301271156889406, -91.77580885592572), (87.16066600570147, 76.61251459114133), (68.42084914954887, 88.97733567602408), (71.62651087464614, -13.93599976754032), (69.03085122479271, 114.26188471403752), (15.125522787976523, -101.28584079015337), (46.77507887472238, -61.393641464485974), (49.34877148174415, 17.45211627784253), (17.17281916254071, 104.92620271865431), (67.0091925624434, 127.49099334329495), (19.002139327516687, 69.65857900932177), (71.6838843808053, 165.81613605967434), (63.30030138099853, 41.73700844909305), (48.79693203631282, 108.65671558318299), (31.00011170625172, -170.91578257784823), (49.45629746596567, 59.925635700538734), (89.91646299108527, -125.5469052669172), (59.14740631216594, 95.33459599342675), (74.6510990079451, 38.39996094694512), (84.99060486094643, 34.76345337468132), (28.02801904317894, 99.09884224555242), (58.069900016243054, 119.82328123982944), (33.72130895052043, -1.463695063817319), (34.62358722502836, -85.68330560537997), (77.14244345999008, 10.89949691280221), (82.30401023724663, -109.21481173359346), (28.351234514785055, 51.857459698915534), (67.60767237385761, 76.31397443919407), (86.6342460519208, 16.3818109503638), (57.684572462804404, 82.35709537731856), (83.37048378491097, -20.580459086802858), (21.087848946824742, 171.45315036764205), (67.73806955041047, 30.016533930492955), (81.77837055218673, -9.819682173234646), (84.09459228519223, -56.59289591591486), (24.68253943112318, -72.10985916557821), (76.72434009382731, 122.21873181869188), (73.30398183559569, -38.27080766039665), (84.90466013009186, 4.03498500123734), (51.55134611266814, 157.2135348135612), (83.97766821937016, -85.21676905091958), (57.43733044574102, -120.22931554688846), (86.60296318612212, 129.26562643745908), (41.75214192790758, -176.89944599446702), (33.17946688099192, 168.8939793011055), (74.60353165275792, -90.65426855286438), (38.38390415950853, -104.98454080473557), (40.428566892629135, 153.47306192612592), (77.39814979000688, -76.86301894344591), (40.170823577046924, -160.11735771027406), (11.637855984132406, -2.416728359398772), (78.49095269603326, 174.1532704968137), (78.96017016873675, 58.81018468238588), (64.01622720151488, -44.21806324470803), (67.02085493105021, -58.772727089527734), (11.724792827053129, -151.7346212609061), (45.734114197117, -76.48322101724875), (54.89017739151127, 175.1960588195576), (41.74395693684971, -14.27378737713859), (67.55817332504084, -71.36599303726064), (79.97449746599997, -119.95592420990148), (66.44282153691874, 6.972219118079013), (45.63850091027154, 31.926919718734304), (58.398240933083954, 68.61553104235749), (3.848175421417629, -77.69432377331044), (51.65879167604038, -171.6465451894974), (62.030343287528346, -158.90346336390724), (38.939596426969715, 100.25935536872281), (56.53958860899571, 30.739349726985356), (61.416893261102494, -18.63904933793075), (9.049409159911232, 148.65376268753013), (34.82436876578932, 35.475127459750375), (38.24605376125986, 64.65144145174838), (52.37603563428469, 44.52890486257214), (28.002320649227173, -47.462760785796625), (77.10665390101606, 146.09572640381333), (41.49258562196599, -32.045669621138174), (27.504171228573327, 20.965870638179087), (8.013931720163406, 66.10471472328162), (79.71289140418904, 25.431295581045756), (31.447921170192895, -118.9321214112275), (29.09528409607672, 76.35505693019459), (48.2134248873687, 75.1550327628136)]\n"
     ]
    }
   ],
   "source": [
    "print(angle_pairs)"
   ],
   "metadata": {
    "collapsed": false,
    "ExecuteTime": {
     "end_time": "2023-12-11T18:26:38.304593700Z",
     "start_time": "2023-12-11T18:26:38.261478400Z"
    }
   },
   "id": "8668d8c21c101cf"
  },
  {
   "cell_type": "code",
   "execution_count": 9,
   "outputs": [],
   "source": [
    "def spherical_to_cartesian(theta, phi):\n",
    "    x = np.sin(theta) * np.cos(phi)\n",
    "    y = np.sin(theta) * np.sin(phi)\n",
    "    z = np.cos(theta)\n",
    "    return x, y, z"
   ],
   "metadata": {
    "collapsed": false,
    "ExecuteTime": {
     "end_time": "2023-12-11T19:21:43.577052900Z",
     "start_time": "2023-12-11T19:21:43.561103200Z"
    }
   },
   "id": "bce5e060afe36a0c"
  },
  {
   "cell_type": "code",
   "execution_count": 13,
   "outputs": [],
   "source": [
    "import numpy as np\n",
    "from math import *\n",
    "angle_matrix = []\n",
    "\n",
    "for i in range(len(angle_pairs)):\n",
    "    angles = []\n",
    "    for j in range(len(angle_pairs)): \n",
    "        if i == j:\n",
    "            continue\n",
    "        x_i, y_i, z_i = spherical_to_cartesian(angle_pairs[i][0], angle_pairs[i][1])\n",
    "        x_j, y_j, z_j = spherical_to_cartesian(angle_pairs[j][0], angle_pairs[j][1])\n",
    "        \n",
    "        angles.append(acos(min(1.0, abs(x_i * x_j + y_i * y_j + z_i * z_j))) / pi * 180)\n",
    "    \n",
    "    angle_matrix.append(angles)\n",
    "\n",
    "angle_matrix = np.array(angle_matrix)"
   ],
   "metadata": {
    "collapsed": false,
    "ExecuteTime": {
     "end_time": "2023-12-11T19:23:02.032989600Z",
     "start_time": "2023-12-11T19:23:01.430696700Z"
    }
   },
   "id": "93064839417f179d"
  },
  {
   "cell_type": "code",
   "execution_count": 18,
   "outputs": [
    {
     "data": {
      "text/plain": "array([ 4.52523629,  4.71054596,  6.16539295,  9.08109231,  2.6617341 ,\n        8.29687196,  2.57903745,  4.5687461 ,  6.48096008,  4.57005777,\n        4.3754504 ,  7.74722726,  7.99526939,  6.53006897,  3.09382745,\n        1.64783412,  4.57005777,  3.77792204,  9.64942618,  6.587505  ,\n        6.587505  , 12.92606571, 10.82287719,  1.37137574,  7.81960513,\n        2.75650408,  2.47643197,  5.46771965,  5.06471301,  7.81960513,\n        8.87794989,  8.71045219,  2.45077819,  8.09613305,  4.71054596,\n       10.59572412,  6.03811922, 10.49076038,  4.52523629,  5.92311368,\n        4.83020199,  5.42249568,  1.13589206,  2.48758189,  1.64783412,\n        4.71314191,  2.6617341 ,  5.53753138,  5.60840291,  0.96416224,\n        6.17004924,  1.63121002,  2.44698875,  8.99949152,  1.23798728,\n        7.67613418,  6.23311145,  6.78012078,  4.49662078,  5.53753138,\n        8.20984412,  3.3024832 ,  3.2204864 ,  6.49862095, 10.24439234,\n        0.90150845,  2.56501409,  2.48758189,  1.07388823,  2.39525583,\n        5.82973861,  4.31947519,  2.57903745,  2.69356622,  1.31523121,\n        3.6897012 ,  8.36118995,  3.8353702 , 10.51726615,  5.34977605,\n        9.15463334,  3.16822046,  6.25064435,  3.2204864 , 13.14596017,\n        5.83812086,  9.20812859,  3.92696773,  6.0466243 ,  7.90282737,\n        4.12201011,  0.91505888,  0.90150845,  1.07388823,  9.20812859,\n        6.18750599,  2.45077819,  7.01983309,  9.41365257,  3.92696773,\n        2.39525583,  1.29092007,  8.36118995,  5.42249568,  3.09382745,\n        7.58766528,  7.87647821,  4.12201011,  4.49662078,  2.47643197,\n       10.65543805,  5.06471301,  8.94686214, 10.71965739,  6.77684941,\n        2.69356622,  4.02439362,  4.31947519,  5.46771965,  2.48949231,\n        2.75635266,  4.81183369,  6.06218849,  1.79131197,  4.65993508,\n        5.92311368,  2.44698875,  4.81183369,  1.31523121,  8.71045219,\n        2.60253555,  2.56501409,  0.91505888,  7.90282737,  1.37137574,\n        1.29092007,  7.16248412,  5.60840291,  5.60402615,  6.25064435,\n        5.60402615,  8.89289952,  8.94686214,  2.53304841,  6.49862095,\n        9.75047726,  6.6217698 , 10.41596717,  1.79131197,  9.0212239 ,\n        3.74604339,  2.75650408,  0.96416224,  2.80939701,  3.8353702 ,\n        6.03811922,  4.65993508,  9.39831939,  7.74722726,  7.14590631,\n        7.67613418,  3.28446574,  6.48096008, 10.84923154,  3.74604339,\n        1.13589206, 12.71298698,  6.53006897,  3.6897012 ,  1.23798728,\n        4.3754504 ,  7.34469219,  3.19616256,  4.9253144 ,  8.4265423 ,\n        7.16248412, 10.82287719,  1.54773865,  4.5687461 ,  5.44755289])"
     },
     "execution_count": 18,
     "metadata": {},
     "output_type": "execute_result"
    }
   ],
   "source": [
    "angle_matrix.min(axis = 1)"
   ],
   "metadata": {
    "collapsed": false,
    "ExecuteTime": {
     "end_time": "2023-12-11T19:24:50.328618600Z",
     "start_time": "2023-12-11T19:24:50.285426600Z"
    }
   },
   "id": "43ba63fe5b06bc13"
  },
  {
   "cell_type": "code",
   "execution_count": 16,
   "outputs": [
    {
     "data": {
      "text/plain": "array([[83.31978873, 69.52387434, 66.06254637, ..., 86.47282222,\n        44.58853538, 88.3715868 ],\n       [83.31978873, 73.4857705 , 50.1585876 , ..., 17.83545093,\n        60.67784738, 76.01284977],\n       [69.52387434, 73.4857705 , 55.44730651, ..., 63.6705378 ,\n        75.2586769 , 22.12163464],\n       ...,\n       [86.47282222, 17.83545093, 63.6705378 , ..., 65.39992004,\n        45.44241769, 61.02021433],\n       [44.58853538, 60.67784738, 75.2586769 , ..., 37.09217594,\n        45.44241769, 56.59778678],\n       [88.3715868 , 76.01284977, 22.12163464, ..., 28.41857363,\n        61.02021433, 56.59778678]])"
     },
     "execution_count": 16,
     "metadata": {},
     "output_type": "execute_result"
    }
   ],
   "source": [
    "angle_matrix"
   ],
   "metadata": {
    "collapsed": false,
    "ExecuteTime": {
     "end_time": "2023-12-11T19:23:23.851857Z",
     "start_time": "2023-12-11T19:23:23.808936200Z"
    }
   },
   "id": "b22fba272f46cf87"
  },
  {
   "cell_type": "code",
   "execution_count": 19,
   "outputs": [],
   "source": [
    "import numpy as np\n",
    "from dipy.core.sphere import disperse_charges, HemiSphere, Sphere\n",
    "from dipy.core.gradients import gradient_table\n",
    "from dipy.data import get_sphere\n",
    "from dipy.sims.voxel import multi_tensor, multi_tensor_odf\n",
    "from dipy.direction import peak_directions\n",
    "import pandas as pd\n",
    "\n",
    "thetas = list(np.load(\"synthetic_data/thetas.npy\"))\n",
    "phis = list(np.load(\"synthetic_data/phis.npy\"))\n",
    "\n",
    "hemisphere = HemiSphere(theta=thetas, phi=phis) # We already dispersed charges when building the hemisphere in dipy_test\n",
    "sphere = Sphere(xyz=np.vstack((hemisphere.vertices, -hemisphere.vertices)))\n",
    "\n",
    "F = np.load(\"synthetic_data/F.npy\")\n",
    "\n",
    "def detect_peaks(F, relative_peak_threshold, min_separation_angle):\n",
    "    peak_format = np.zeros((len(F), 15))\n",
    "    for i, sample in enumerate(F):\n",
    "        # Duplicate the sample for both hemispheres\n",
    "        F_sphere = np.hstack((sample, sample)) / 2\n",
    "\n",
    "        # Find peak directions\n",
    "        directions, values, indices = peak_directions(F_sphere, sphere, relative_peak_threshold, min_separation_angle)\n",
    "        directions_flattened = directions.flatten()\n",
    "        peak_format[i][0:len(directions_flattened)] = directions_flattened\n",
    "    return peak_format\n"
   ],
   "metadata": {
    "collapsed": false,
    "ExecuteTime": {
     "end_time": "2023-12-11T19:28:24.539113900Z",
     "start_time": "2023-12-11T19:28:22.539425Z"
    }
   },
   "id": "7b8c2cb8d2fa244a"
  },
  {
   "cell_type": "code",
   "execution_count": 32,
   "outputs": [
    {
     "name": "stdout",
     "output_type": "stream",
     "text": [
      "87\n",
      "(-0.37890021440593835, -0.5761459231473628, 0.7242171654716608)\n",
      "176\n",
      "(-0.8811615911315133, -0.27118010236205414, -0.38731847670552155)\n"
     ]
    }
   ],
   "source": [
    "non_zero = np.nonzero(F[0])\n",
    "for i in non_zero[0]:\n",
    "    print(i)\n",
    "    print(spherical_to_cartesian(thetas[i], phis[i]))"
   ],
   "metadata": {
    "collapsed": false,
    "ExecuteTime": {
     "end_time": "2023-12-11T19:34:46.249773200Z",
     "start_time": "2023-12-11T19:34:46.222633300Z"
    }
   },
   "id": "778e567825803713"
  },
  {
   "cell_type": "code",
   "execution_count": 25,
   "outputs": [],
   "source": [
    "peaks_f_0 = detect_peaks(F, 0.1, 15)"
   ],
   "metadata": {
    "collapsed": false,
    "ExecuteTime": {
     "end_time": "2023-12-11T19:31:45.409178600Z",
     "start_time": "2023-12-11T19:31:37.398547600Z"
    }
   },
   "id": "3d3a499300889d07"
  },
  {
   "cell_type": "code",
   "execution_count": 26,
   "outputs": [
    {
     "data": {
      "text/plain": "array([ 0.88116159,  0.2711801 ,  0.38731848, -0.37890021, -0.57614592,\n        0.72421717,  0.        ,  0.        ,  0.        ,  0.        ,\n        0.        ,  0.        ,  0.        ,  0.        ,  0.        ])"
     },
     "execution_count": 26,
     "metadata": {},
     "output_type": "execute_result"
    }
   ],
   "source": [
    "peaks_f_0[0]"
   ],
   "metadata": {
    "collapsed": false,
    "ExecuteTime": {
     "end_time": "2023-12-11T19:31:50.398700100Z",
     "start_time": "2023-12-11T19:31:50.362796300Z"
    }
   },
   "id": "c3d13111c160317c"
  },
  {
   "cell_type": "code",
   "execution_count": 17,
   "outputs": [],
   "source": [
    "a = pd.read_pickle(\"real_data/ground_truth_peaks_white_masked.pkl\")"
   ],
   "metadata": {
    "collapsed": false,
    "ExecuteTime": {
     "end_time": "2023-12-12T09:52:00.581203Z",
     "start_time": "2023-12-12T09:52:00.538319Z"
    }
   },
   "id": "b5f0a5a8a12da0c0"
  },
  {
   "cell_type": "code",
   "execution_count": 57,
   "outputs": [],
   "source": [
    "num_rows_to_sample = 1\n",
    "\n",
    "# Generate random indices to sample\n",
    "random_indices = np.random.choice(a.shape[0], size=num_rows_to_sample, replace=False)\n",
    "\n",
    "# Use the random indices to extract the sampled rows\n",
    "sampled_rows = a[[1955], :]\n",
    "\n",
    "pd.to_pickle(sampled_rows, \"small_peaks1.pkl\")"
   ],
   "metadata": {
    "collapsed": false,
    "ExecuteTime": {
     "end_time": "2023-12-12T11:27:43.962732100Z",
     "start_time": "2023-12-12T11:27:43.924371Z"
    }
   },
   "id": "489b36428b0e573e"
  },
  {
   "cell_type": "code",
   "execution_count": 52,
   "outputs": [],
   "source": [
    "import nibabel as nib\n",
    "niiGT = nib.load('real_data/ground-truth-peaks.nii.gz')\n",
    "niiGT_img = niiGT.get_fdata()\n",
    "\n",
    "niiMASK = nib.load('real_data/white_matter_mask.nii.gz')\n",
    "niiMASK_img = niiMASK.get_fdata().astype(bool)"
   ],
   "metadata": {
    "collapsed": false,
    "ExecuteTime": {
     "end_time": "2023-12-12T11:27:21.724963400Z",
     "start_time": "2023-12-12T11:27:21.655275400Z"
    }
   },
   "id": "ee892a6765a6aefa"
  },
  {
   "cell_type": "code",
   "execution_count": 53,
   "outputs": [],
   "source": [
    "masked_GT = niiGT_img[niiMASK_img]"
   ],
   "metadata": {
    "collapsed": false,
    "ExecuteTime": {
     "end_time": "2023-12-12T11:27:22.052033600Z",
     "start_time": "2023-12-12T11:27:22.010639400Z"
    }
   },
   "id": "91b19f23d9243a9e"
  },
  {
   "cell_type": "code",
   "execution_count": 54,
   "outputs": [],
   "source": [
    "nonzero_counts = np.count_nonzero(masked_GT, axis=1) / 3"
   ],
   "metadata": {
    "collapsed": false,
    "ExecuteTime": {
     "end_time": "2023-12-12T11:27:22.452382800Z",
     "start_time": "2023-12-12T11:27:22.425489400Z"
    }
   },
   "id": "b7aa36ba856eacf1"
  },
  {
   "cell_type": "code",
   "execution_count": 56,
   "outputs": [
    {
     "data": {
      "text/plain": "(array([ 1955,  1975,  2359,  2377,  2528,  2660,  2692,  2793,  2943,\n         2949,  2950,  2988,  2994,  2995,  3033,  3039,  3040,  3192,\n         3205,  3207,  3460,  3465,  3466,  3507,  3512,  3513,  3554,\n         3559,  3560,  3744,  3748,  3760,  3766,  4073,  4077,  4078,\n         4119,  4120,  4124,  4125,  4166,  4167,  4171,  4172,  4214,\n         4219,  4323,  4353,  4597,  4700,  4701,  4704,  4705,  4706,\n         4747,  4748,  4751,  4752,  4753,  4794,  4795,  4798,  4799,\n         4800,  4846,  5216,  5302,  5303,  5306,  5307,  5349,  5350,\n         5352,  5353,  5354,  5398,  5399,  5401,  5402,  5403,  5451,\n         5835,  5876,  5877,  5879,  5880,  5882,  5883,  5924,  5925,\n         5926,  5928,  5929,  5931,  5932,  5974,  5975,  5977,  5978,\n         5980,  5981,  6026,  6028,  6123,  6135,  6137,  6151,  6152,\n         6168,  6169,  6170,  6171,  6188,  6576,  6577,  6586,  6587,\n         6588,  6589,  6590,  6605,  6606,  6607,  6608,  6609,  6610,\n         6627,  6628,  6629,  6632,  6650,  6651,  6975,  6977,  6987,\n         6988,  6989,  7002,  7003,  7004,  7005,  7006,  7021,  7022,\n         7023,  7043,  7372,  7373,  7388,  7389,  7390,  7405,  7716,\n         7986,  8219,  8226,  8597,  9009,  9532,  9534,  9564,  9868,\n         9869,  9872,  9873,  9874,  9921, 10060, 10061, 10093, 10121,\n        10371, 10375, 10376, 10415, 10416, 10420, 10421, 10462, 10463,\n        10467, 10468, 10833, 10838, 10839, 11230, 11242, 11504, 11516,\n        11521, 12419, 12652, 12685, 12697, 12883, 12884], dtype=int64),)"
     },
     "execution_count": 56,
     "metadata": {},
     "output_type": "execute_result"
    }
   ],
   "source": [
    "np.where(nonzero_counts == 3)"
   ],
   "metadata": {
    "collapsed": false,
    "ExecuteTime": {
     "end_time": "2023-12-12T11:27:30.930283600Z",
     "start_time": "2023-12-12T11:27:30.903323500Z"
    }
   },
   "id": "4dc318c7c1d240d7"
  },
  {
   "cell_type": "code",
   "execution_count": 79,
   "outputs": [],
   "source": [
    "pd.to_pickle(masked_GT, 'real_data/ground_truth_peaks_white_masked.pkl')"
   ],
   "metadata": {
    "collapsed": false,
    "ExecuteTime": {
     "end_time": "2023-12-11T20:38:56.357644600Z",
     "start_time": "2023-12-11T20:38:56.333674500Z"
    }
   },
   "id": "f21663cf69892196"
  },
  {
   "cell_type": "code",
   "execution_count": null,
   "outputs": [],
   "source": [],
   "metadata": {
    "collapsed": false
   },
   "id": "4aa3608b82d428e2"
  }
 ],
 "metadata": {
  "kernelspec": {
   "display_name": "Python 3",
   "language": "python",
   "name": "python3"
  },
  "language_info": {
   "codemirror_mode": {
    "name": "ipython",
    "version": 2
   },
   "file_extension": ".py",
   "mimetype": "text/x-python",
   "name": "python",
   "nbconvert_exporter": "python",
   "pygments_lexer": "ipython2",
   "version": "2.7.6"
  }
 },
 "nbformat": 4,
 "nbformat_minor": 5
}
