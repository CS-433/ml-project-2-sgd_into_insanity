{
 "cells": [
  {
   "cell_type": "code",
   "execution_count": 1,
   "metadata": {
    "ExecuteTime": {
     "end_time": "2023-11-25T20:16:10.616511Z",
     "start_time": "2023-11-25T20:16:07.314138600Z"
    }
   },
   "outputs": [],
   "source": [
    "import numpy as np\n",
    "import matplotlib.pyplot as plt\n",
    "import torch\n",
    "import torch.nn as nn\n",
    "import torch.optim as optim"
   ]
  },
  {
   "cell_type": "code",
   "execution_count": 2,
   "metadata": {
    "ExecuteTime": {
     "end_time": "2023-11-25T20:16:10.814803600Z",
     "start_time": "2023-11-25T20:16:10.627958600Z"
    }
   },
   "outputs": [
    {
     "name": "stdout",
     "output_type": "stream",
     "text": [
      "(100000, 130)\n",
      "(100000, 300)\n",
      "(300, 130)\n"
     ]
    }
   ],
   "source": [
    "S = np.load(\"S.npy\")\n",
    "H = np.load(\"H.npy\")\n",
    "F = np.load(\"F.npy\")\n",
    "print(np.shape(S))\n",
    "print(np.shape(F))\n",
    "print(np.shape(H))\n",
    "\n",
    "# Convert them to PyTorch tensors\n",
    "S = torch.from_numpy(S).float()\n",
    "H = torch.from_numpy(H).float()"
   ]
  },
  {
   "cell_type": "code",
   "execution_count": 3,
   "metadata": {
    "ExecuteTime": {
     "end_time": "2023-11-25T20:16:10.830423400Z",
     "start_time": "2023-11-25T20:16:10.814803600Z"
    }
   },
   "outputs": [],
   "source": [
    "class MatrixFactorizationNet(nn.Module):\n",
    "    def __init__(self, input_size, hidden_sizes, output_size):\n",
    "        super(MatrixFactorizationNet, self).__init__()\n",
    "        # Define the network layers\n",
    "        self.fc1 = nn.Linear(input_size, hidden_sizes[0])\n",
    "        self.fc2 = nn.Linear(hidden_sizes[0], hidden_sizes[1])\n",
    "        self.fc3 = nn.Linear(hidden_sizes[1], hidden_sizes[2])\n",
    "        self.fc4 = nn.Linear(hidden_sizes[2], output_size)\n",
    "        self.softplus = nn.Softplus()\n",
    "\n",
    "    def forward(self, x):\n",
    "        x = torch.relu(self.fc1(x))\n",
    "        x = torch.relu(self.fc2(x))\n",
    "        x = torch.relu(self.fc3(x))\n",
    "        x = self.softplus(self.fc4(x))  # Softplus activation for the output layer\n",
    "        return x\n",
    "    \n",
    "def apply_sparsity(F, sparsity_threshold=0.9):\n",
    "    \"\"\"\n",
    "    Apply sparsity constraint to the output matrix F by zeroing out\n",
    "    a certain percentage of the smallest absolute values.\n",
    "    \"\"\"\n",
    "    k = int(sparsity_threshold * F.numel())\n",
    "    if k > 0:\n",
    "        # Zero out the k smallest absolute values in F\n",
    "        _, indices = torch.topk(torch.abs(F).view(-1), k, largest=False)\n",
    "        F.view(-1)[indices] = 0\n",
    "    return F"
   ]
  },
  {
   "cell_type": "code",
   "execution_count": 4,
   "metadata": {
    "ExecuteTime": {
     "end_time": "2023-11-25T20:16:10.892909100Z",
     "start_time": "2023-11-25T20:16:10.830423400Z"
    }
   },
   "outputs": [],
   "source": [
    "from torch.utils.data import Dataset, DataLoader\n",
    "\n",
    "class MatrixDataset(Dataset):\n",
    "    def __init__(self, S, F):\n",
    "        self.S = S\n",
    "        self.F = F\n",
    "\n",
    "    def __len__(self):\n",
    "        return len(self.S)\n",
    "\n",
    "    def __getitem__(self, idx):\n",
    "        return self.S[idx], self.F[idx]"
   ]
  },
  {
   "cell_type": "code",
   "execution_count": 5,
   "metadata": {
    "ExecuteTime": {
     "end_time": "2023-11-25T20:16:10.892909100Z",
     "start_time": "2023-11-25T20:16:10.846045100Z"
    }
   },
   "outputs": [],
   "source": [
    "# Separate into training and testing set\n",
    "split = 0.8\n",
    "num_entries = len(S)\n",
    "train_len = int(num_entries * split)\n",
    "\n",
    "S_train = S[:train_len]\n",
    "F_train = F[:train_len]\n",
    "\n",
    "S_test = S[train_len:]\n",
    "F_test = F[train_len:]"
   ]
  },
  {
   "cell_type": "code",
   "execution_count": 6,
   "metadata": {
    "ExecuteTime": {
     "end_time": "2023-11-25T20:16:10.892909100Z",
     "start_time": "2023-11-25T20:16:10.877287400Z"
    }
   },
   "outputs": [],
   "source": [
    "batch_size = 32  # You can adjust this according to your GPU capacity\n",
    "\n",
    "train_dataset = MatrixDataset(S_train, F_train)\n",
    "train_loader = DataLoader(train_dataset, batch_size=batch_size, shuffle=True)\n",
    "\n",
    "test_dataset = MatrixDataset(S_test, F_test)\n",
    "test_loader = DataLoader(test_dataset, batch_size=batch_size, shuffle=False)"
   ]
  },
  {
   "cell_type": "code",
   "execution_count": 7,
   "metadata": {
    "ExecuteTime": {
     "end_time": "2023-11-25T20:31:34.467560600Z",
     "start_time": "2023-11-25T20:16:10.908531800Z"
    }
   },
   "outputs": [
    {
     "name": "stdout",
     "output_type": "stream",
     "text": [
      "80000\n",
      "130\n",
      "300\n"
     ]
    },
    {
     "ename": "KeyboardInterrupt",
     "evalue": "",
     "output_type": "error",
     "traceback": [
      "\u001B[1;31m---------------------------------------------------------------------------\u001B[0m",
      "\u001B[1;31mKeyboardInterrupt\u001B[0m                         Traceback (most recent call last)",
      "Cell \u001B[1;32mIn[7], line 45\u001B[0m\n\u001B[0;32m     42\u001B[0m loss \u001B[38;5;241m=\u001B[39m criterion(SH_batch, S_batch\u001B[38;5;241m.\u001B[39mto_dense())  \u001B[38;5;66;03m# Ensure that S_batch is converted to dense if needed\u001B[39;00m\n\u001B[0;32m     44\u001B[0m \u001B[38;5;66;03m# L1 Regularization\u001B[39;00m\n\u001B[1;32m---> 45\u001B[0m l1_reg \u001B[38;5;241m=\u001B[39m \u001B[38;5;28;43msum\u001B[39;49m\u001B[43m(\u001B[49m\u001B[43mtorch\u001B[49m\u001B[38;5;241;43m.\u001B[39;49m\u001B[43msum\u001B[49m\u001B[43m(\u001B[49m\u001B[43mtorch\u001B[49m\u001B[38;5;241;43m.\u001B[39;49m\u001B[43mabs\u001B[49m\u001B[43m(\u001B[49m\u001B[43mparam\u001B[49m\u001B[43m)\u001B[49m\u001B[43m)\u001B[49m\u001B[43m \u001B[49m\u001B[38;5;28;43;01mfor\u001B[39;49;00m\u001B[43m \u001B[49m\u001B[43mparam\u001B[49m\u001B[43m \u001B[49m\u001B[38;5;129;43;01min\u001B[39;49;00m\u001B[43m \u001B[49m\u001B[43mnet\u001B[49m\u001B[38;5;241;43m.\u001B[39;49m\u001B[43mparameters\u001B[49m\u001B[43m(\u001B[49m\u001B[43m)\u001B[49m\u001B[43m)\u001B[49m\n\u001B[0;32m     46\u001B[0m loss \u001B[38;5;241m+\u001B[39m\u001B[38;5;241m=\u001B[39m l1_lambda \u001B[38;5;241m*\u001B[39m l1_reg\n\u001B[0;32m     48\u001B[0m \u001B[38;5;66;03m# Gradient Clipping\u001B[39;00m\n",
      "Cell \u001B[1;32mIn[7], line 45\u001B[0m, in \u001B[0;36m<genexpr>\u001B[1;34m(.0)\u001B[0m\n\u001B[0;32m     42\u001B[0m loss \u001B[38;5;241m=\u001B[39m criterion(SH_batch, S_batch\u001B[38;5;241m.\u001B[39mto_dense())  \u001B[38;5;66;03m# Ensure that S_batch is converted to dense if needed\u001B[39;00m\n\u001B[0;32m     44\u001B[0m \u001B[38;5;66;03m# L1 Regularization\u001B[39;00m\n\u001B[1;32m---> 45\u001B[0m l1_reg \u001B[38;5;241m=\u001B[39m \u001B[38;5;28msum\u001B[39m(torch\u001B[38;5;241m.\u001B[39msum(torch\u001B[38;5;241m.\u001B[39mabs(param)) \u001B[38;5;28;01mfor\u001B[39;00m param \u001B[38;5;129;01min\u001B[39;00m net\u001B[38;5;241m.\u001B[39mparameters())\n\u001B[0;32m     46\u001B[0m loss \u001B[38;5;241m+\u001B[39m\u001B[38;5;241m=\u001B[39m l1_lambda \u001B[38;5;241m*\u001B[39m l1_reg\n\u001B[0;32m     48\u001B[0m \u001B[38;5;66;03m# Gradient Clipping\u001B[39;00m\n",
      "\u001B[1;31mKeyboardInterrupt\u001B[0m: "
     ]
    }
   ],
   "source": [
    "N_test, _ = np.shape(S_test)\n",
    "N, n_b = np.shape(S_train)  \n",
    "_, n = np.shape(F_train)\n",
    "print(N)\n",
    "print(n_b)\n",
    "print(n)\n",
    "#input_size = N * n_b\n",
    "#output_size = N * n\n",
    "input_size = n_b\n",
    "output_size = n\n",
    "\n",
    "# Define your network\n",
    "net = MatrixFactorizationNet(input_size, [512, 256, 128], output_size)\n",
    "\n",
    "# Flatten S for input to the network\n",
    "#S_flattened = S_train.view(-1)\n",
    "\n",
    "# Define Loss function and optimizer\n",
    "criterion = nn.MSELoss()\n",
    "optimizer = optim.Adam(net.parameters(), lr=0.001)\n",
    "\n",
    "l1_lambda = 0.0001  # Regularization strength\n",
    "\n",
    "# Training loop (simplified)\n",
    "num_epochs = 3000  # Define the number of epochs\n",
    "for epoch in range(num_epochs):\n",
    "    total_loss = 0.0\n",
    "    for S_batch, F_batch in train_loader:\n",
    "        optimizer.zero_grad()\n",
    "\n",
    "        # Assuming S_batch is a sparse tensor\n",
    "        S_batch_flattened = S_batch.to_dense().view(S_batch.size(0), -1)\n",
    "\n",
    "        # Forward pass\n",
    "        F_batch_pred = net(S_batch_flattened)\n",
    "        F_batch_pred_normalized = F_batch_pred / (F_batch_pred.sum(dim=1, keepdim=True) + 1e-8) # To avoid divisions by zero\n",
    "\n",
    "        # Compute approximation of S\n",
    "        SH_batch = torch.matmul(F_batch_pred_normalized, H)\n",
    "\n",
    "        # Compute loss\n",
    "        loss = criterion(SH_batch, S_batch.to_dense())  # Ensure that S_batch is converted to dense if needed\n",
    "\n",
    "        # L1 Regularization\n",
    "        l1_reg = sum(torch.sum(torch.abs(param)) for param in net.parameters())\n",
    "        loss += l1_lambda * l1_reg\n",
    "\n",
    "        # Gradient Clipping\n",
    "        torch.nn.utils.clip_grad_norm_(net.parameters(), max_norm=1)\n",
    "\n",
    "        # Backward pass and optimize\n",
    "        loss.backward()\n",
    "        optimizer.step()\n",
    "\n",
    "        total_loss += loss.item()\n",
    "\n",
    "    # Print the average loss for this epoch\n",
    "    average_loss = total_loss / len(train_loader)\n",
    "    if (epoch + 1) % 100 == 0:\n",
    "        print(f'Epoch [{epoch+1}/{num_epochs}], Loss: {average_loss}')\n",
    "\n",
    "\n",
    "with torch.no_grad():\n",
    "    total_loss = 0.0\n",
    "    F_pred_matrix_normalized_list = []\n",
    "\n",
    "    for S_batch, F_batch in test_loader:\n",
    "        S_batch_flattened = S_batch.to_dense().view(S_batch.size(0), -1)\n",
    "\n",
    "        F_batch_pred = net(S_batch_flattened)\n",
    "        F_batch_pred_normalized = F_batch_pred / F_batch_pred.sum(dim=1, keepdim=True)\n",
    "\n",
    "        SH_batch_test = torch.matmul(F_batch_pred_normalized, H)\n",
    "        loss = criterion(SH_batch_test, S_batch.to_dense())\n",
    "\n",
    "        total_loss += loss.item()\n",
    "        F_pred_matrix_normalized_list.append(F_batch_pred_normalized)\n",
    "\n",
    "    # Calculate the average loss over all test samples\n",
    "    avg_loss = total_loss / len(test_loader)\n",
    "    print(\"Average Test Loss:\", avg_loss)\n"
   ]
  },
  {
   "cell_type": "code",
   "execution_count": null,
   "metadata": {
    "ExecuteTime": {
     "start_time": "2023-11-25T20:31:34.467560600Z"
    }
   },
   "outputs": [],
   "source": [
    "\"\"\"import numpy as np\n",
    "\n",
    "# Define your hyperparameters to tune\n",
    "learning_rates = [0.1, 0.01, 0.001]\n",
    "hidden_layer_sizes = [(512, 256, 128), (256, 128), (128, 64)]\n",
    "l1_lambda_values = [0.0001, 0.00001]\n",
    "\n",
    "criterion = nn.MSELoss()\n",
    "\n",
    "# Assuming you have your data S, H, and F\n",
    "# S and H are your input data, and F is your target output data\n",
    "\n",
    "# Define the number of folds for cross-validation\n",
    "num_folds = 5\n",
    "\n",
    "# Calculate the number of samples in your dataset\n",
    "N = S.shape[0]  # Use N instead of num_samples\n",
    "num_samples = N\n",
    "\n",
    "# Create an array of shuffled indices\n",
    "shuffled_indices = np.arange(N)\n",
    "np.random.shuffle(shuffled_indices)\n",
    "\n",
    "# Shuffle your data using the shuffled indices\n",
    "S_shuffled = S#[shuffled_indices]\n",
    "H_shuffled = H#[:, shuffled_indices]\n",
    "F_shuffled = F#[:, shuffled_indices]\n",
    "\n",
    "# Split your data into folds\n",
    "fold_size = N // num_folds\n",
    "validation_losses = []\n",
    "\n",
    "num_epochs = 1000\n",
    "\n",
    "# Perform cross-validation for each hyperparameter combination\n",
    "for lr in learning_rates:\n",
    "    for hidden_sizes in hidden_layer_sizes:\n",
    "        for l1_lambda in l1_lambda_values:\n",
    "            print(f\"Hyperparameters: Learning rate = {lr}, Hidden sizes = {hidden_sizes}, L1 Lambda = {l1_lambda}\")\n",
    "\n",
    "            # Initialize a list to store validation losses for each fold\n",
    "            validation_losses = []\n",
    "\n",
    "            for fold in range(num_folds):\n",
    "                # Calculate the start and end indices for the current fold\n",
    "                start_idx = fold * fold_size\n",
    "                end_idx = (fold + 1) * fold_size if fold < num_folds - 1 else N\n",
    "\n",
    "                # Split your data into training and validation sets for the current fold\n",
    "                S_train = np.concatenate([S_shuffled[:start_idx], S_shuffled[end_idx:]], axis=0)\n",
    "                #H_train = np.concatenate([H_shuffled[:, :start_idx], H_shuffled[:, end_idx:]], axis=1)\n",
    "                H_train = H\n",
    "                F_train = np.concatenate([F_shuffled[:start_idx], F_shuffled[end_idx:]], axis=0)\n",
    "\n",
    "                S_train = torch.from_numpy(S_train).float()\n",
    "                F_train = torch.from_numpy(F_train).float()\n",
    "\n",
    "                print(S_train.shape)\n",
    "                print(F_train.shape)\n",
    "                print(H_train.shape)\n",
    "\n",
    "                N, n_b = np.shape(S_train)  \n",
    "                _, n = np.shape(F_train)\n",
    "                input_size = N * n_b\n",
    "                output_size = N * n\n",
    "\n",
    "                S_valid = S_shuffled[start_idx:end_idx]\n",
    "                #H_valid = H_shuffled[:, start_idx:end_idx]\n",
    "                H_valid = H\n",
    "                F_valid = F_shuffled[start_idx:end_idx]\n",
    "\n",
    "                F_valid = torch.from_numpy(F_valid).float()\n",
    "\n",
    "                S_train_flattened = S_train.reshape(-1)\n",
    "\n",
    "                # Initialize your network with the specified architecture\n",
    "                net = MatrixFactorizationNet(input_size, hidden_sizes, output_size)\n",
    "\n",
    "                # Initialize optimizer with the current learning rate\n",
    "                optimizer = optim.Adam(net.parameters(), lr=lr)\n",
    "\n",
    "                # Training loop for the current fold (similar to your code)\n",
    "                for epoch in range(num_epochs):\n",
    "                    optimizer.zero_grad()\n",
    "                    # Forward pass\n",
    "                    F = net(S_train_flattened)\n",
    "                    F_matrix = F.view(N, n)  # Reshape to matrix form\n",
    "                    SH = torch.matmul(F_matrix, H_train)  # Compute approximation of S\n",
    "                    loss = criterion(SH, S_train)  # Compute loss\n",
    "\n",
    "                    # L1 Regularization\n",
    "                    l1_reg = sum(torch.sum(torch.abs(param)) for param in net.parameters())\n",
    "                    loss += l1_lambda * l1_reg\n",
    "\n",
    "                    # Backward pass and optimize\n",
    "                    loss.backward()\n",
    "                    optimizer.step()\n",
    "\n",
    "                    # Apply sparsity constraint\n",
    "                    with torch.no_grad():\n",
    "                        F_matrix = apply_sparsity(F_matrix)\n",
    "\n",
    "                # Calculate validation loss for the current fold\n",
    "                with torch.no_grad():\n",
    "                    F_valid_flattened = F_valid.reshape(-1)\n",
    "                    F_valid_pred = net(F_valid_flattened)  # Predict F for validation data\n",
    "                    F_valid_pred_matrix = F_valid_pred.view(F_valid.shape)  # Reshape to matrix form\n",
    "                    print(F_valid_pred_matrix)\n",
    "                    print(H_valid)\n",
    "                    SH_valid = torch.matmul(F_valid_pred_matrix, H_valid)  # Compute approximation of S for validation\n",
    "                    print(\"a\")\n",
    "                    print(SH_valid.shape)\n",
    "                    print(S_valid.shape)\n",
    "                    validation_loss = criterion(SH_valid, S_valid)  # Compute validation loss\n",
    "                    print(\"b\")\n",
    "                    validation_losses.append(validation_loss.item())  # Append the loss value to the list\n",
    "\n",
    "            # Calculate average validation loss across all folds for the current hyperparameter combination\n",
    "            avg_validation_loss = np.mean(validation_losses)\n",
    "            print(f\"Average Validation Loss: {avg_validation_loss}\")\"\"\"\n"
   ]
  }
 ],
 "metadata": {
  "kernelspec": {
   "display_name": "Python 3",
   "language": "python",
   "name": "python3"
  },
  "language_info": {
   "codemirror_mode": {
    "name": "ipython",
    "version": 3
   },
   "file_extension": ".py",
   "mimetype": "text/x-python",
   "name": "python",
   "nbconvert_exporter": "python",
   "pygments_lexer": "ipython3",
   "version": "3.9.18"
  }
 },
 "nbformat": 4,
 "nbformat_minor": 2
}
