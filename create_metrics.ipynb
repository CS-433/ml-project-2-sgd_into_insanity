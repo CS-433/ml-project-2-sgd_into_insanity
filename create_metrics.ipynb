{
 "cells": [
  {
   "cell_type": "code",
   "execution_count": 73,
   "outputs": [],
   "source": [
    "import pandas as pd\n",
    "import numpy as np\n",
    "import matplotlib.pyplot as plt\n",
    "from dipy.core.sphere import disperse_charges, HemiSphere, Sphere\n",
    "from dipy.direction import peak_directions\n",
    "from dipy.core.gradients import gradient_table\n",
    "from dipy.data import get_sphere\n",
    "from dipy.sims.voxel import multi_tensor, multi_tensor_odf, single_tensor\n",
    "from mpl_toolkits.mplot3d import Axes3D\n",
    "import torch\n",
    "import torch.nn as nn\n",
    "from torch.utils.data import Dataset, DataLoader\n",
    "import torch.optim as optim\n",
    "import nibabel as nib"
   ],
   "metadata": {
    "collapsed": false,
    "ExecuteTime": {
     "end_time": "2023-12-13T19:42:16.107580200Z",
     "start_time": "2023-12-13T19:42:16.084465900Z"
    }
   },
   "id": "5ae5dea14a77be17"
  },
  {
   "cell_type": "code",
   "execution_count": 74,
   "outputs": [],
   "source": [
    "thetas = list(np.load(\"synthetic_data/thetas.npy\"))\n",
    "phis = list(np.load(\"synthetic_data/phis.npy\"))\n",
    "\n",
    "hemisphere = HemiSphere(theta=thetas, phi=phis) # We already dispersed charges when building the hemisphere in dipy_test\n",
    "sphere = Sphere(xyz=np.vstack((hemisphere.vertices, -hemisphere.vertices)))\n",
    "\n",
    "\n",
    "def detect_peaks(F, relative_peak_threshold, min_separation_angle):\n",
    "    peak_format = np.zeros((len(F), 42))\n",
    "    max_peak_count = 0\n",
    "    for i, sample in enumerate(F):\n",
    "        # Duplicate the sample for both hemispheres\n",
    "        F_sphere = np.hstack((sample, sample)) / 2\n",
    "\n",
    "        # Find peak directions\n",
    "        directions, values, indices = peak_directions(F_sphere, sphere, relative_peak_threshold, min_separation_angle)\n",
    "        directions = sample[indices][:, np.newaxis] * directions # multiplying with fractions\n",
    "        directions_flattened = directions.flatten()\n",
    "        peak_format[i][0:len(directions_flattened)] = directions_flattened\n",
    "        if len(directions_flattened) / 3 > max_peak_count:\n",
    "            max_peak_count = len(directions_flattened) / 3\n",
    "    return peak_format, max_peak_count"
   ],
   "metadata": {
    "collapsed": false,
    "ExecuteTime": {
     "end_time": "2023-12-13T19:42:16.491191500Z",
     "start_time": "2023-12-13T19:42:16.467573800Z"
    }
   },
   "id": "7582179fd936fead"
  },
  {
   "cell_type": "code",
   "execution_count": 115,
   "outputs": [
    {
     "name": "stdout",
     "output_type": "stream",
     "text": [
      "(100000, 65)\n",
      "(100000, 180)\n"
     ]
    },
    {
     "data": {
      "text/plain": "<All keys matched successfully>"
     },
     "execution_count": 115,
     "metadata": {},
     "output_type": "execute_result"
    }
   ],
   "source": [
    "class MatrixFactorizationNet(nn.Module):\n",
    "    def __init__(self, input_size, hidden_sizes, output_size):\n",
    "        super(MatrixFactorizationNet, self).__init__()\n",
    "        # Define the network layers\n",
    "        self.fc1 = nn.Linear(input_size, hidden_sizes[0])\n",
    "        self.fc2 = nn.Linear(hidden_sizes[0], hidden_sizes[1])\n",
    "        self.fc3 = nn.Linear(hidden_sizes[1], hidden_sizes[2])\n",
    "        self.fc4 = nn.Linear(hidden_sizes[2], output_size)\n",
    "        self.softplus = nn.Softplus()\n",
    "\n",
    "    def forward(self, x):\n",
    "        x = torch.relu(self.fc1(x))\n",
    "        x = torch.relu(self.fc2(x))\n",
    "        x = torch.relu(self.fc3(x))\n",
    "        x = self.softplus(self.fc4(x))  # Softplus activation for the output layer\n",
    "        return x\n",
    "\n",
    "class MatrixDataset(Dataset):\n",
    "    def __init__(self, S, F):\n",
    "        self.S = S\n",
    "        self.F = F\n",
    "\n",
    "    def __len__(self):\n",
    "        return len(self.S)\n",
    "\n",
    "    def __getitem__(self, idx):\n",
    "        return self.S[idx], self.F[idx]\n",
    "    \n",
    "def apply_sparsity(F, sparsity_threshold=0.9):\n",
    "    max_value, _ = F.max(dim = 1, keepdim = True)\n",
    "    F[F < 0.1 * max_value] = 0\n",
    "    return F\n",
    "\n",
    "\n",
    "S = np.load(\"synthetic_data/S.npy\")\n",
    "F = np.load(\"synthetic_data/F.npy\")\n",
    "print(np.shape(S))\n",
    "print(np.shape(F))\n",
    "\n",
    "# Convert them to PyTorch tensors\n",
    "S = torch.from_numpy(S).float()\n",
    "# Separate into training and testing set\n",
    "split = 0.9\n",
    "num_entries = len(S)\n",
    "train_len = int(num_entries * split)\n",
    "\n",
    "S_train = S[:train_len]\n",
    "F_train = F[:train_len]\n",
    "\n",
    "S_test = S[train_len:]\n",
    "F_test = F[train_len:]\n",
    "batch_size = 1024\n",
    "\n",
    "criterion = nn.MSELoss()\n",
    "\n",
    "train_dataset = MatrixDataset(S_train, F_train)\n",
    "train_loader = DataLoader(train_dataset, batch_size=batch_size, shuffle=True)\n",
    "\n",
    "test_dataset = MatrixDataset(S_test, F_test)\n",
    "test_loader = DataLoader(test_dataset, batch_size=batch_size, shuffle=False)\n",
    "\n",
    "N_test, _ = np.shape(S_test)\n",
    "N, n_b = np.shape(S_train)\n",
    "_, n = np.shape(F_train)\n",
    "\n",
    "input_size = n_b\n",
    "output_size = n\n",
    "\n",
    "net = MatrixFactorizationNet(input_size, [512, 256, 128], output_size)\n",
    "net.load_state_dict(torch.load(\"trained_model/model_13_12_noluyo.pt\", map_location=torch.device('cpu')))"
   ],
   "metadata": {
    "collapsed": false,
    "ExecuteTime": {
     "end_time": "2023-12-13T19:58:38.187064200Z",
     "start_time": "2023-12-13T19:58:38.015894400Z"
    }
   },
   "id": "ac70d5823dcf9c57"
  },
  {
   "cell_type": "code",
   "execution_count": 77,
   "outputs": [],
   "source": [
    "mask = nib.load('real_data/mask.nii').get_fdata().astype(bool)\n",
    "white_mask = nib.load('real_data/white_matter_mask.nii').get_fdata().astype(bool)\n",
    "\n",
    "hardi_snr10 = nib.load('real_data/DWIS_hardi-scheme_SNR-10.nii').get_fdata()\n",
    "hardi_snr20 = nib.load('real_data/DWIS_hardi-scheme_SNR-20.nii').get_fdata()\n",
    "hardi_snr30 = nib.load('real_data/DWIS_hardi-scheme_SNR-30.nii').get_fdata()\n",
    "\n",
    "hardi_snr10_masked = hardi_snr10[mask]\n",
    "hardi_snr20_masked = hardi_snr20[mask]\n",
    "hardi_snr30_masked = hardi_snr30[mask]\n",
    "hardi_snr10_masked *= (100/hardi_snr10_masked[0][0])\n",
    "hardi_snr20_masked *= (100/hardi_snr20_masked[0][0])\n",
    "hardi_snr30_masked *= (100/hardi_snr30_masked[0][0])\n",
    "\n",
    "hardi_snr10_white_masked = hardi_snr10[white_mask]\n",
    "hardi_snr20_white_masked = hardi_snr20[white_mask]\n",
    "hardi_snr30_white_masked = hardi_snr30[white_mask]\n",
    "hardi_snr10_white_masked *= (100/hardi_snr10_white_masked[0][0])\n",
    "hardi_snr20_white_masked *= (100/hardi_snr20_white_masked[0][0])\n",
    "hardi_snr30_white_masked *= (100/hardi_snr30_white_masked[0][0])"
   ],
   "metadata": {
    "collapsed": false,
    "ExecuteTime": {
     "end_time": "2023-12-13T19:42:26.268718900Z",
     "start_time": "2023-12-13T19:42:25.874066500Z"
    }
   },
   "id": "e766195dd6b51b40"
  },
  {
   "cell_type": "code",
   "execution_count": 63,
   "outputs": [],
   "source": [
    "test_set_hardi = torch.from_numpy(hardi_snr30_white_masked).float()\n",
    "F_test_set_hardi = torch.from_numpy(np.zeros(hardi_snr30_white_masked.shape[0])).float()\n",
    "test_dataset_hardi = MatrixDataset(test_set_hardi, F_test_set_hardi)\n",
    "test_loader_hardi = DataLoader(test_dataset, batch_size=batch_size, shuffle=False)"
   ],
   "metadata": {
    "collapsed": false,
    "ExecuteTime": {
     "end_time": "2023-12-13T19:14:14.163331700Z",
     "start_time": "2023-12-13T19:14:14.128880400Z"
    }
   },
   "id": "eafc512019f8e595"
  },
  {
   "cell_type": "code",
   "execution_count": 116,
   "outputs": [
    {
     "name": "stdout",
     "output_type": "stream",
     "text": [
      "Average Test Loss: 0.0003444569720370217\n"
     ]
    }
   ],
   "source": [
    "with torch.no_grad():\n",
    "    total_loss = 0.0\n",
    "    F_pred_matrix_normalized_list = []\n",
    "\n",
    "    for S_batch, F_batch in test_loader:\n",
    "        S_batch_flattened = S_batch.to_dense().view(S_batch.size(0), -1)\n",
    "\n",
    "        F_batch_pred = net(S_batch_flattened)\n",
    "        F_batch_pred = apply_sparsity(F_batch_pred)\n",
    "        F_batch_pred_normalized = F_batch_pred / F_batch_pred.sum(dim=1, keepdim=True)\n",
    "\n",
    "        loss = criterion(F_batch_pred_normalized, F_batch)\n",
    "\n",
    "        total_loss += loss.item()\n",
    "        F_pred_matrix_normalized_list.append(F_batch_pred_normalized)\n",
    "\n",
    "    # Calculate the average loss over all test samples\n",
    "    avg_loss = total_loss / len(test_loader)\n",
    "    print(\"Average Test Loss:\", avg_loss)\n"
   ],
   "metadata": {
    "collapsed": false,
    "ExecuteTime": {
     "end_time": "2023-12-13T19:58:41.405434500Z",
     "start_time": "2023-12-13T19:58:41.177638900Z"
    }
   },
   "id": "26ae2c6afe721f03"
  },
  {
   "cell_type": "code",
   "execution_count": 109,
   "outputs": [],
   "source": [
    "F_pred_np = np.concatenate([tensor.cpu().numpy().flatten() for tensor in F_pred_matrix_normalized_list])\n",
    "F_pred_np = F_pred_np.reshape((-1,180)).astype(np.double)"
   ],
   "metadata": {
    "collapsed": false,
    "ExecuteTime": {
     "end_time": "2023-12-13T19:54:24.733358600Z",
     "start_time": "2023-12-13T19:54:24.682165800Z"
    }
   },
   "id": "45070b069920ae3b"
  },
  {
   "cell_type": "code",
   "execution_count": 110,
   "outputs": [
    {
     "data": {
      "text/plain": "array([0.        , 0.        , 0.        , 0.        , 0.        ,\n       0.        , 0.        , 0.        , 0.        , 0.        ,\n       0.        , 0.        , 0.        , 0.        , 0.        ,\n       0.        , 0.        , 0.        , 0.        , 0.        ,\n       0.        , 0.        , 0.        , 0.        , 0.        ,\n       0.        , 0.        , 0.        , 0.        , 0.        ,\n       0.        , 0.        , 0.        , 0.        , 0.        ,\n       0.        , 0.        , 0.        , 0.        , 0.        ,\n       0.        , 0.        , 0.        , 0.        , 0.        ,\n       0.        , 0.        , 0.        , 0.        , 0.        ,\n       0.        , 0.        , 0.09886476, 0.        , 0.        ,\n       0.        , 0.        , 0.        , 0.        , 0.        ,\n       0.        , 0.        , 0.        , 0.        , 0.        ,\n       0.        , 0.        , 0.        , 0.        , 0.        ,\n       0.        , 0.        , 0.        , 0.        , 0.        ,\n       0.        , 0.        , 0.        , 0.        , 0.        ,\n       0.06059293, 0.        , 0.        , 0.        , 0.        ,\n       0.        , 0.        , 0.        , 0.        , 0.        ,\n       0.        , 0.        , 0.        , 0.        , 0.        ,\n       0.        , 0.        , 0.        , 0.        , 0.        ,\n       0.        , 0.        , 0.        , 0.        , 0.        ,\n       0.        , 0.        , 0.        , 0.        , 0.        ,\n       0.        , 0.        , 0.        , 0.        , 0.        ,\n       0.        , 0.        , 0.        , 0.        , 0.        ,\n       0.12054092, 0.        , 0.        , 0.        , 0.        ,\n       0.        , 0.        , 0.        , 0.        , 0.        ,\n       0.        , 0.        , 0.52461308, 0.        , 0.        ,\n       0.        , 0.        , 0.        , 0.        , 0.        ,\n       0.        , 0.        , 0.        , 0.        , 0.        ,\n       0.        , 0.        , 0.        , 0.        , 0.        ,\n       0.        , 0.        , 0.        , 0.        , 0.06121262,\n       0.        , 0.        , 0.        , 0.        , 0.        ,\n       0.        , 0.        , 0.        , 0.        , 0.        ,\n       0.        , 0.        , 0.        , 0.        , 0.        ,\n       0.        , 0.13417567, 0.        , 0.        , 0.        ,\n       0.        , 0.        , 0.        , 0.        , 0.        ])"
     },
     "execution_count": 110,
     "metadata": {},
     "output_type": "execute_result"
    }
   ],
   "source": [
    "F_pred_np[0]"
   ],
   "metadata": {
    "collapsed": false,
    "ExecuteTime": {
     "end_time": "2023-12-13T19:54:24.961048200Z",
     "start_time": "2023-12-13T19:54:24.931633900Z"
    }
   },
   "id": "b0e1484c6e02b52e"
  },
  {
   "cell_type": "code",
   "execution_count": 111,
   "outputs": [
    {
     "data": {
      "text/plain": "array([6, 1, 6, ..., 3, 2, 1], dtype=int64)"
     },
     "execution_count": 111,
     "metadata": {},
     "output_type": "execute_result"
    }
   ],
   "source": [
    "np.count_nonzero(F_pred_np, axis=1)"
   ],
   "metadata": {
    "collapsed": false,
    "ExecuteTime": {
     "end_time": "2023-12-13T19:54:25.520236Z",
     "start_time": "2023-12-13T19:54:25.481367900Z"
    }
   },
   "id": "63035427206062f"
  },
  {
   "cell_type": "code",
   "execution_count": 112,
   "outputs": [
    {
     "name": "stdout",
     "output_type": "stream",
     "text": [
      "[0.         0.         0.         0.         0.06632972 0.07354342\n",
      " 0.08396713 0.39832243 0.08077925 0.29705805]\n",
      "[ 62  60  61   7   0 154  88  93  86   1]\n",
      "[0.        0.3446201 0.6553799]\n",
      "[60  1 93]\n"
     ]
    }
   ],
   "source": [
    "indices_top10 = np.argpartition(F_pred_np[2], -10)[-10:]\n",
    "\n",
    "# Get the top 10 largest elements\n",
    "print(F_pred_np[2][indices_top10])\n",
    "print(indices_top10)\n",
    "\n",
    "indices_top3_true = np.argpartition(F_test[2], -3)[-3:]\n",
    "# Get the top 3 largest elements\n",
    "print(F_test[2][indices_top3_true])\n",
    "print(indices_top3_true)"
   ],
   "metadata": {
    "collapsed": false,
    "ExecuteTime": {
     "end_time": "2023-12-13T19:54:26.686012300Z",
     "start_time": "2023-12-13T19:54:26.648114Z"
    }
   },
   "id": "aa803815b91516db"
  },
  {
   "cell_type": "code",
   "execution_count": 84,
   "outputs": [],
   "source": [
    "relative_peak_threshold = 0.1\n",
    "min_separation_angle = 25\n",
    "\n",
    "peak_format, peak_count = detect_peaks(F_pred_np, relative_peak_threshold, min_separation_angle)"
   ],
   "metadata": {
    "collapsed": false,
    "ExecuteTime": {
     "end_time": "2023-12-13T19:42:41.780088Z",
     "start_time": "2023-12-13T19:42:40.952013500Z"
    }
   },
   "id": "c237a066b735020a"
  },
  {
   "cell_type": "code",
   "execution_count": 85,
   "outputs": [
    {
     "data": {
      "text/plain": "array([[ 0.2258295 ,  0.03338549,  0.47234027, ...,  0.        ,\n         0.        ,  0.        ],\n       [-0.1632948 , -0.03411156,  0.98598743, ...,  0.        ,\n         0.        ,  0.        ],\n       [-0.03947505, -0.00283443,  0.39635136, ...,  0.        ,\n         0.        ,  0.        ],\n       ...,\n       [-0.11682584, -0.15266421,  0.70320939, ...,  0.        ,\n         0.        ,  0.        ],\n       [-0.65627344,  0.42391103,  0.13080321, ...,  0.        ,\n         0.        ,  0.        ],\n       [ 0.7085509 ,  0.54002708,  0.45423162, ...,  0.        ,\n         0.        ,  0.        ]])"
     },
     "execution_count": 85,
     "metadata": {},
     "output_type": "execute_result"
    }
   ],
   "source": [
    "peak_format"
   ],
   "metadata": {
    "collapsed": false,
    "ExecuteTime": {
     "end_time": "2023-12-13T19:42:41.800548700Z",
     "start_time": "2023-12-13T19:42:41.782189600Z"
    }
   },
   "id": "c6a0438cbf259004"
  },
  {
   "cell_type": "code",
   "execution_count": 86,
   "outputs": [
    {
     "data": {
      "text/plain": "11.0"
     },
     "execution_count": 86,
     "metadata": {},
     "output_type": "execute_result"
    }
   ],
   "source": [
    "peak_count"
   ],
   "metadata": {
    "collapsed": false,
    "ExecuteTime": {
     "end_time": "2023-12-13T19:42:42.801156500Z",
     "start_time": "2023-12-13T19:42:42.747122400Z"
    }
   },
   "id": "796a6283ba7daf97"
  },
  {
   "cell_type": "code",
   "execution_count": 72,
   "outputs": [
    {
     "data": {
      "text/plain": "array([[0., 0., 0., ..., 0., 0., 0.],\n       [0., 0., 0., ..., 0., 0., 0.],\n       [0., 0., 0., ..., 0., 0., 0.],\n       ...,\n       [0., 0., 0., ..., 0., 0., 0.],\n       [0., 0., 0., ..., 0., 0., 0.],\n       [0., 0., 0., ..., 0., 0., 0.]])"
     },
     "execution_count": 72,
     "metadata": {},
     "output_type": "execute_result"
    }
   ],
   "source": [
    "pd.read_pickle(\"real_data/ground_truth_peaks_white_masked.pkl\")"
   ],
   "metadata": {
    "collapsed": false,
    "ExecuteTime": {
     "end_time": "2023-12-13T19:15:14.422019600Z",
     "start_time": "2023-12-13T19:15:14.359161300Z"
    }
   },
   "id": "a24c0f805f8b815e"
  },
  {
   "cell_type": "code",
   "execution_count": null,
   "outputs": [],
   "source": [],
   "metadata": {
    "collapsed": false
   },
   "id": "a8d507c1d8714601"
  }
 ],
 "metadata": {
  "kernelspec": {
   "display_name": "Python 3",
   "language": "python",
   "name": "python3"
  },
  "language_info": {
   "codemirror_mode": {
    "name": "ipython",
    "version": 2
   },
   "file_extension": ".py",
   "mimetype": "text/x-python",
   "name": "python",
   "nbconvert_exporter": "python",
   "pygments_lexer": "ipython2",
   "version": "2.7.6"
  }
 },
 "nbformat": 4,
 "nbformat_minor": 5
}
