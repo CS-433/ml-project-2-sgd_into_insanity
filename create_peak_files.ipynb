{
 "cells": [
  {
   "cell_type": "code",
   "execution_count": 17,
   "id": "initial_id",
   "metadata": {
    "collapsed": true,
    "ExecuteTime": {
     "end_time": "2023-12-21T09:59:53.701988400Z",
     "start_time": "2023-12-21T09:59:53.686367500Z"
    }
   },
   "outputs": [],
   "source": [
    "import pandas as pd\n",
    "from dipy.core.sphere import HemiSphere, Sphere\n",
    "from torch.utils.data import Dataset, DataLoader\n",
    "import nibabel as nib\n",
    "import glob\n",
    "from helpers import *\n"
   ]
  },
  {
   "cell_type": "code",
   "execution_count": 18,
   "outputs": [],
   "source": [
    "thetas = list(np.load(\"synthetic_data/thetas.npy\"))\n",
    "phis = list(np.load(\"synthetic_data/phis.npy\"))\n",
    "\n",
    "thetas_360 = list(np.load(\"synthetic_data/thetas_360.npy\"))\n",
    "phis_360 = list(np.load(\"synthetic_data/phis_360.npy\"))\n",
    "\n",
    "thetas_90 = list(np.load(\"synthetic_data/thetas_90.npy\"))\n",
    "phis_90 = list(np.load(\"synthetic_data/phis_90.npy\"))"
   ],
   "metadata": {
    "collapsed": false,
    "ExecuteTime": {
     "end_time": "2023-12-21T09:59:53.947793400Z",
     "start_time": "2023-12-21T09:59:53.939065700Z"
    }
   },
   "id": "d8d2de6618d0b592"
  },
  {
   "cell_type": "code",
   "execution_count": 3,
   "outputs": [],
   "source": [
    "mask = nib.load('real_data/mask.nii').get_fdata().astype(bool)\n",
    "white_mask = nib.load('real_data/white_matter_mask.nii').get_fdata().astype(bool)\n",
    "\n",
    "hardi_snr10 = nib.load('real_data/DWIS_hardi-scheme_SNR-10.nii').get_fdata()\n",
    "hardi_snr20 = nib.load('real_data/DWIS_hardi-scheme_SNR-20.nii').get_fdata()\n",
    "hardi_snr30 = nib.load('real_data/DWIS_hardi-scheme_SNR-30.nii').get_fdata()\n",
    "\n",
    "hardi_snr10_masked = hardi_snr10[mask]\n",
    "hardi_snr20_masked = hardi_snr20[mask]\n",
    "hardi_snr30_masked = hardi_snr30[mask]\n",
    "hardi_snr10_masked *= (100/hardi_snr10_masked[0][0])\n",
    "hardi_snr20_masked *= (100/hardi_snr20_masked[0][0])\n",
    "hardi_snr30_masked *= (100/hardi_snr30_masked[0][0])\n",
    "\n",
    "hardi_snr10_white_masked = hardi_snr10[white_mask]\n",
    "hardi_snr20_white_masked = hardi_snr20[white_mask]\n",
    "hardi_snr30_white_masked = hardi_snr30[white_mask]\n",
    "hardi_snr10_white_masked *= (100/hardi_snr10_white_masked[0][0])\n",
    "hardi_snr20_white_masked *= (100/hardi_snr20_white_masked[0][0])\n",
    "hardi_snr30_white_masked *= (100/hardi_snr30_white_masked[0][0])\n",
    "\n",
    "gt_white_masked = pd.read_pickle(\"real_data/ground_truth_peaks_white_masked.pkl\")"
   ],
   "metadata": {
    "collapsed": false,
    "ExecuteTime": {
     "end_time": "2023-12-21T08:39:26.587871700Z",
     "start_time": "2023-12-21T08:39:26.150469200Z"
    }
   },
   "id": "d7c2ab385e4cb5be"
  },
  {
   "cell_type": "code",
   "execution_count": 20,
   "outputs": [],
   "source": [
    "validation = pd.read_pickle(\"real_data/validation_set.pkl\")\n",
    "validation_peaks = pd.read_pickle(\"real_data/gt_white_masked_validation.pkl\")"
   ],
   "metadata": {
    "collapsed": false,
    "ExecuteTime": {
     "end_time": "2023-12-21T09:59:58.759244900Z",
     "start_time": "2023-12-21T09:59:58.721972900Z"
    }
   },
   "id": "749ef94308c91336"
  },
  {
   "cell_type": "code",
   "execution_count": 21,
   "outputs": [],
   "source": [
    "batch_size = 1024\n",
    "test_set_hardi = torch.from_numpy(validation).float()\n",
    "F_test_set_hardi = torch.from_numpy(np.zeros(validation.shape[0])).float()\n",
    "test_dataset_hardi = MatrixDataset(test_set_hardi, F_test_set_hardi)\n",
    "test_loader_hardi = DataLoader(test_dataset_hardi, batch_size=batch_size, shuffle=False)"
   ],
   "metadata": {
    "collapsed": false,
    "ExecuteTime": {
     "end_time": "2023-12-21T09:59:59.068417600Z",
     "start_time": "2023-12-21T09:59:59.032514Z"
    }
   },
   "id": "502cc575ddad7b5a"
  },
  {
   "cell_type": "code",
   "execution_count": 22,
   "outputs": [
    {
     "name": "stdout",
     "output_type": "stream",
     "text": [
      "od-360_ds-1.2e6_hs-512,256,128_BN-y_loss-F_lr-0.01 7.0\n",
      "od-90_ds-1.2e6_hs-512,256,128_BN-y_loss-SF_lr-0.001 8.0\n",
      "ds-6e5_hs-512,256,128_BN-y_loss-F_lr-0.001 7.0\n",
      "ds-6e5_hs-512,256,128_BN-y_loss-F_lr-0.001 8.0\n",
      "ds-1.2e6_hs-1024,512,256_BN-y_loss-F_lr-0.001 5.0\n",
      "ds-1.2e6_hs-1024,512,256_BN-y_loss-F_lr-0.01 6.0\n",
      "ds-1.2e6_hs-1024,512,256_BN-y_loss-SF_lr-0.001_WD-y 9.0\n",
      "ds-1.2e6_hs-256,512,256_BN-y_loss-F_lr-0.001 7.0\n",
      "ds-1.2e6_hs-512,256,128_BN-y_loss-F_lr-0.001 5.0\n",
      "ds-1.2e6_hs-512,256,128_BN-y_loss-SF_lr-0.001 6.0\n",
      "ds-3e5_hs-512,256,128_BN-y_loss-F_lr-0.001 5.0\n",
      "ds-3e5_hs-65,128,180_BN-y_loss-F_lr-0.001 6.0\n",
      "ds-6e5_hs-128,256,256,128_BN-y_loss-F_lr-0.001 6.0\n",
      "ds-6e5_hs-128,256,512_BN-y_loss-F_lr-0.001 5.0\n",
      "ds-6e5_hs-512,256,128_BN-y_loss-F_lr-0.001 5.0\n",
      "ds-6e5_hs-512,256,128_BN-y_loss-F_lr-0.01 5.0\n",
      "ds-6e5_hs-512,256,128_BN-y_loss-SF_lr-0.001 6.0\n",
      "ds-6e5_hs-512,256,128_BN-y_loss-SF_lr-0.001_WD-y 7.0\n",
      "ds-6e5_hs-64,128,256_BN-y_loss-F_lr-0.001 7.0\n",
      "ds-6e5_hs-256,512,256_BN-y_loss-SF_lr-0.001_WD-n 7.0\n",
      "ds-6e5_hs-512,256,128_BN-y_loss-SF_lr-0.001_WD-n 5.0\n",
      "ds-6e5_hs-65,128,180_BN-y_loss-SF_lr-0.001_WD-n 10.0\n",
      "ds-1.2me6_hs-256,256,256_BN-y_loss-SF_lr-0.001_WD-n 8.0\n",
      "ds-1.2me6_hs-512,512_BN-y_loss-SF_lr-0.001_WD-n 11.0\n",
      "ds-1e5_hs-512,256,128_BN-n_loss-F_lr-0.001 12.0\n",
      "ds-5e5_hs-512,256,128_BN-n_loss-F_lr-0.001 12.0\n",
      "ds-6e5_hs-512,256,128_BN-y_loss-F_lr-0.001 6.0\n",
      "ds-1e5_hs-128,256,128_BN-y_loss-SF_lr-0.01 9.0\n",
      "ds-1e5_hs-512,256,128_BN-n_loss-F_lr-0.001 11.0\n",
      "ds-1e5_hs-512,256,128_BN-n_loss-F_lr-0.001_train-sparse 14.0\n",
      "ds-5e5_hs-128,256,256,128_BN-y_loss-SF_lr-0.01 6.0\n",
      "ds-6e5_hs-512,256,128_BN-y_loss-F_lr-0.001 6.0\n"
     ]
    }
   ],
   "source": [
    "trained_files = glob.glob(\"trained_model/models/*/*.pt\")\n",
    "\n",
    "for model in trained_files:\n",
    "    hidden_sizes = None\n",
    "    net = None\n",
    "    model_name = model.split('\\\\')[-1][:-3]\n",
    "    dataset_name = model.split('\\\\')[-2]\n",
    "    output_dim = 180\n",
    "    hemisphere = HemiSphere(theta=thetas, phi=phis)\n",
    "    \n",
    "    for parameter in model_name.split('_'):\n",
    "        key, value = parameter.split('-', 1)\n",
    "        if key == 'od':\n",
    "            output_dim = int(value)\n",
    "            if output_dim == 90:\n",
    "                hemisphere = HemiSphere(theta=thetas_90, phi=phis_90)\n",
    "            elif output_dim == 360:\n",
    "                hemisphere = HemiSphere(theta=thetas_360, phi=phis_360)\n",
    "        if key == 'hs':\n",
    "            hidden_sizes = value.split(',')\n",
    "            hidden_sizes = [int(num) for num in hidden_sizes]\n",
    "        if key == 'BN':\n",
    "            if value == 'y':\n",
    "                if len(hidden_sizes) == 3:\n",
    "                    net = MatrixFactorizationBatchNormalizationNet_4_layer(65, hidden_sizes, output_dim)\n",
    "                elif len(hidden_sizes) == 2:\n",
    "                    net = MatrixFactorizationBatchNormalizationNet_3_layer(65, hidden_sizes, output_dim)\n",
    "                else:\n",
    "                    net = MatrixFactorizationBatchNormalizationNet_5_layer(65, hidden_sizes, output_dim)\n",
    "            else:\n",
    "                net = MatrixFactorizationNet(65, hidden_sizes, 180)\n",
    "    net.load_state_dict(torch.load(model, map_location=torch.device('cpu')))\n",
    "    \n",
    "    for sparsity_threshold in [0.1]:\n",
    "        net.eval()\n",
    "        with torch.no_grad():\n",
    "            F_pred_matrix_normalized_list = []\n",
    "            for S_batch, F_batch in test_loader_hardi:\n",
    "                S_batch_flattened = S_batch.to_dense().view(S_batch.size(0), -1)\n",
    "        \n",
    "                F_batch_pred = net(S_batch_flattened)\n",
    "                F_batch_pred = apply_sparsity(F_batch_pred, sparsity_threshold)\n",
    "                F_batch_pred_normalized = F_batch_pred / (F_batch_pred.sum(dim=1, keepdim=True)+1e-8)\n",
    "        \n",
    "                F_pred_matrix_normalized_list.append(F_batch_pred_normalized)\n",
    "            \n",
    "        F_pred_np = np.concatenate([tensor.cpu().numpy().flatten() for tensor in F_pred_matrix_normalized_list])\n",
    "        F_pred_np = F_pred_np.reshape((-1,output_dim)).astype(np.double)\n",
    "        \n",
    "        \n",
    "        relative_peak_threshold = 0.1\n",
    "        min_separation_angle = 25\n",
    "    \n",
    "        peak_format, peak_count, min_peak_count = detect_peaks(F_pred_np, hemisphere, \n",
    "        relative_peak_threshold, min_separation_angle)\n",
    "        print(model_name, peak_count)\n",
    "        pd.to_pickle(peak_format, \"trained_model/peak_results/\" + dataset_name + \"_\" +  model_name + \"_sparsity\" + str(sparsity_threshold) + \".pkl\")\n",
    "        pd.to_pickle(F_pred_np, \"trained_model/predicted_odfs/\" + dataset_name + \"_\" +  model_name + \"_sparsity\" + str(sparsity_threshold) + \".pkl\")\n",
    "            "
   ],
   "metadata": {
    "collapsed": false,
    "ExecuteTime": {
     "end_time": "2023-12-21T10:00:23.052229700Z",
     "start_time": "2023-12-21T09:59:59.295809900Z"
    }
   },
   "id": "bebcc6b177fce87a"
  },
  {
   "cell_type": "code",
   "execution_count": null,
   "outputs": [],
   "source": [],
   "metadata": {
    "collapsed": false
   },
   "id": "14c6252dfb7dfc20"
  }
 ],
 "metadata": {
  "kernelspec": {
   "display_name": "Python 3",
   "language": "python",
   "name": "python3"
  },
  "language_info": {
   "codemirror_mode": {
    "name": "ipython",
    "version": 2
   },
   "file_extension": ".py",
   "mimetype": "text/x-python",
   "name": "python",
   "nbconvert_exporter": "python",
   "pygments_lexer": "ipython2",
   "version": "2.7.6"
  }
 },
 "nbformat": 4,
 "nbformat_minor": 5
}
