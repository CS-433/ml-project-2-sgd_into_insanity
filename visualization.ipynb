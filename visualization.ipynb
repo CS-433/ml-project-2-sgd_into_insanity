{
 "cells": [
  {
   "cell_type": "code",
   "execution_count": 1,
   "outputs": [],
   "source": [
    "import matplotlib.pyplot as plt\n",
    "import numpy as np\n",
    "import pandas as pd\n",
    "import random\n",
    "\n",
    "from dipy.core.sphere import disperse_charges, HemiSphere\n",
    "from dipy.core.gradients import gradient_table\n",
    "from dipy.sims.voxel import multi_tensor, multi_tensor_odf\n",
    "from dipy.data import get_fnames, get_sphere\n",
    "from dipy.viz import window, actor\n",
    "from dipy.reconst.dsi import (DiffusionSpectrumDeconvModel,\n",
    "                              DiffusionSpectrumModel)"
   ],
   "metadata": {
    "collapsed": false,
    "ExecuteTime": {
     "end_time": "2023-12-04T19:00:20.345808100Z",
     "start_time": "2023-12-04T19:00:18.093755300Z"
    }
   },
   "id": "8f59cf6d36f5c948"
  },
  {
   "cell_type": "code",
   "execution_count": 2,
   "outputs": [],
   "source": [
    "#S_gt = pd.read_pickle(\"train_results/S_test.pkl\")\n",
    "#S_predicted = pd.read_pickle(\"train_results/S_predicted.pkl\")\n",
    "#F_gt = pd.read_pickle(\"train_results/F_test.pkl\")\n",
    "#F_predicted = pd.read_pickle(\"train_results/F_pred.pkl\")\n",
    "angle_pairs = pd.read_pickle(\"synthetic_data/angle_pairs.pkl\")"
   ],
   "metadata": {
    "collapsed": false,
    "ExecuteTime": {
     "end_time": "2023-12-04T19:00:52.213869800Z",
     "start_time": "2023-12-04T19:00:52.200387800Z"
    }
   },
   "id": "92a88daaaa7edb8b"
  },
  {
   "cell_type": "code",
   "execution_count": 3,
   "outputs": [],
   "source": [
    "evals = result_array = np.tile([0.0015, 0.0003, 0.0003], (len(angle_pairs), 1))"
   ],
   "metadata": {
    "collapsed": false,
    "ExecuteTime": {
     "end_time": "2023-12-04T19:00:54.711338500Z",
     "start_time": "2023-12-04T19:00:54.690412400Z"
    }
   },
   "id": "dba4d775d3aa899b"
  },
  {
   "cell_type": "code",
   "execution_count": 4,
   "outputs": [
    {
     "data": {
      "text/plain": "array([[0.0015, 0.0003, 0.0003],\n       [0.0015, 0.0003, 0.0003],\n       [0.0015, 0.0003, 0.0003],\n       [0.0015, 0.0003, 0.0003],\n       [0.0015, 0.0003, 0.0003],\n       [0.0015, 0.0003, 0.0003],\n       [0.0015, 0.0003, 0.0003],\n       [0.0015, 0.0003, 0.0003],\n       [0.0015, 0.0003, 0.0003],\n       [0.0015, 0.0003, 0.0003],\n       [0.0015, 0.0003, 0.0003],\n       [0.0015, 0.0003, 0.0003],\n       [0.0015, 0.0003, 0.0003],\n       [0.0015, 0.0003, 0.0003],\n       [0.0015, 0.0003, 0.0003],\n       [0.0015, 0.0003, 0.0003],\n       [0.0015, 0.0003, 0.0003],\n       [0.0015, 0.0003, 0.0003],\n       [0.0015, 0.0003, 0.0003],\n       [0.0015, 0.0003, 0.0003],\n       [0.0015, 0.0003, 0.0003],\n       [0.0015, 0.0003, 0.0003],\n       [0.0015, 0.0003, 0.0003],\n       [0.0015, 0.0003, 0.0003],\n       [0.0015, 0.0003, 0.0003],\n       [0.0015, 0.0003, 0.0003],\n       [0.0015, 0.0003, 0.0003],\n       [0.0015, 0.0003, 0.0003],\n       [0.0015, 0.0003, 0.0003],\n       [0.0015, 0.0003, 0.0003],\n       [0.0015, 0.0003, 0.0003],\n       [0.0015, 0.0003, 0.0003],\n       [0.0015, 0.0003, 0.0003],\n       [0.0015, 0.0003, 0.0003],\n       [0.0015, 0.0003, 0.0003],\n       [0.0015, 0.0003, 0.0003],\n       [0.0015, 0.0003, 0.0003],\n       [0.0015, 0.0003, 0.0003],\n       [0.0015, 0.0003, 0.0003],\n       [0.0015, 0.0003, 0.0003],\n       [0.0015, 0.0003, 0.0003],\n       [0.0015, 0.0003, 0.0003],\n       [0.0015, 0.0003, 0.0003],\n       [0.0015, 0.0003, 0.0003],\n       [0.0015, 0.0003, 0.0003],\n       [0.0015, 0.0003, 0.0003],\n       [0.0015, 0.0003, 0.0003],\n       [0.0015, 0.0003, 0.0003],\n       [0.0015, 0.0003, 0.0003],\n       [0.0015, 0.0003, 0.0003],\n       [0.0015, 0.0003, 0.0003],\n       [0.0015, 0.0003, 0.0003],\n       [0.0015, 0.0003, 0.0003],\n       [0.0015, 0.0003, 0.0003],\n       [0.0015, 0.0003, 0.0003],\n       [0.0015, 0.0003, 0.0003],\n       [0.0015, 0.0003, 0.0003],\n       [0.0015, 0.0003, 0.0003],\n       [0.0015, 0.0003, 0.0003],\n       [0.0015, 0.0003, 0.0003],\n       [0.0015, 0.0003, 0.0003],\n       [0.0015, 0.0003, 0.0003],\n       [0.0015, 0.0003, 0.0003],\n       [0.0015, 0.0003, 0.0003],\n       [0.0015, 0.0003, 0.0003],\n       [0.0015, 0.0003, 0.0003],\n       [0.0015, 0.0003, 0.0003],\n       [0.0015, 0.0003, 0.0003],\n       [0.0015, 0.0003, 0.0003],\n       [0.0015, 0.0003, 0.0003],\n       [0.0015, 0.0003, 0.0003],\n       [0.0015, 0.0003, 0.0003],\n       [0.0015, 0.0003, 0.0003],\n       [0.0015, 0.0003, 0.0003],\n       [0.0015, 0.0003, 0.0003],\n       [0.0015, 0.0003, 0.0003],\n       [0.0015, 0.0003, 0.0003],\n       [0.0015, 0.0003, 0.0003],\n       [0.0015, 0.0003, 0.0003],\n       [0.0015, 0.0003, 0.0003],\n       [0.0015, 0.0003, 0.0003],\n       [0.0015, 0.0003, 0.0003],\n       [0.0015, 0.0003, 0.0003],\n       [0.0015, 0.0003, 0.0003],\n       [0.0015, 0.0003, 0.0003],\n       [0.0015, 0.0003, 0.0003],\n       [0.0015, 0.0003, 0.0003],\n       [0.0015, 0.0003, 0.0003],\n       [0.0015, 0.0003, 0.0003],\n       [0.0015, 0.0003, 0.0003],\n       [0.0015, 0.0003, 0.0003],\n       [0.0015, 0.0003, 0.0003],\n       [0.0015, 0.0003, 0.0003],\n       [0.0015, 0.0003, 0.0003],\n       [0.0015, 0.0003, 0.0003],\n       [0.0015, 0.0003, 0.0003],\n       [0.0015, 0.0003, 0.0003],\n       [0.0015, 0.0003, 0.0003],\n       [0.0015, 0.0003, 0.0003],\n       [0.0015, 0.0003, 0.0003],\n       [0.0015, 0.0003, 0.0003],\n       [0.0015, 0.0003, 0.0003],\n       [0.0015, 0.0003, 0.0003],\n       [0.0015, 0.0003, 0.0003],\n       [0.0015, 0.0003, 0.0003],\n       [0.0015, 0.0003, 0.0003],\n       [0.0015, 0.0003, 0.0003],\n       [0.0015, 0.0003, 0.0003],\n       [0.0015, 0.0003, 0.0003],\n       [0.0015, 0.0003, 0.0003],\n       [0.0015, 0.0003, 0.0003],\n       [0.0015, 0.0003, 0.0003],\n       [0.0015, 0.0003, 0.0003],\n       [0.0015, 0.0003, 0.0003],\n       [0.0015, 0.0003, 0.0003],\n       [0.0015, 0.0003, 0.0003],\n       [0.0015, 0.0003, 0.0003],\n       [0.0015, 0.0003, 0.0003],\n       [0.0015, 0.0003, 0.0003],\n       [0.0015, 0.0003, 0.0003],\n       [0.0015, 0.0003, 0.0003],\n       [0.0015, 0.0003, 0.0003],\n       [0.0015, 0.0003, 0.0003],\n       [0.0015, 0.0003, 0.0003],\n       [0.0015, 0.0003, 0.0003],\n       [0.0015, 0.0003, 0.0003],\n       [0.0015, 0.0003, 0.0003],\n       [0.0015, 0.0003, 0.0003],\n       [0.0015, 0.0003, 0.0003],\n       [0.0015, 0.0003, 0.0003],\n       [0.0015, 0.0003, 0.0003],\n       [0.0015, 0.0003, 0.0003],\n       [0.0015, 0.0003, 0.0003],\n       [0.0015, 0.0003, 0.0003],\n       [0.0015, 0.0003, 0.0003],\n       [0.0015, 0.0003, 0.0003],\n       [0.0015, 0.0003, 0.0003],\n       [0.0015, 0.0003, 0.0003],\n       [0.0015, 0.0003, 0.0003],\n       [0.0015, 0.0003, 0.0003],\n       [0.0015, 0.0003, 0.0003],\n       [0.0015, 0.0003, 0.0003],\n       [0.0015, 0.0003, 0.0003],\n       [0.0015, 0.0003, 0.0003],\n       [0.0015, 0.0003, 0.0003],\n       [0.0015, 0.0003, 0.0003],\n       [0.0015, 0.0003, 0.0003],\n       [0.0015, 0.0003, 0.0003],\n       [0.0015, 0.0003, 0.0003],\n       [0.0015, 0.0003, 0.0003],\n       [0.0015, 0.0003, 0.0003],\n       [0.0015, 0.0003, 0.0003],\n       [0.0015, 0.0003, 0.0003],\n       [0.0015, 0.0003, 0.0003],\n       [0.0015, 0.0003, 0.0003],\n       [0.0015, 0.0003, 0.0003],\n       [0.0015, 0.0003, 0.0003],\n       [0.0015, 0.0003, 0.0003],\n       [0.0015, 0.0003, 0.0003],\n       [0.0015, 0.0003, 0.0003],\n       [0.0015, 0.0003, 0.0003],\n       [0.0015, 0.0003, 0.0003],\n       [0.0015, 0.0003, 0.0003],\n       [0.0015, 0.0003, 0.0003],\n       [0.0015, 0.0003, 0.0003],\n       [0.0015, 0.0003, 0.0003],\n       [0.0015, 0.0003, 0.0003],\n       [0.0015, 0.0003, 0.0003],\n       [0.0015, 0.0003, 0.0003],\n       [0.0015, 0.0003, 0.0003],\n       [0.0015, 0.0003, 0.0003],\n       [0.0015, 0.0003, 0.0003],\n       [0.0015, 0.0003, 0.0003],\n       [0.0015, 0.0003, 0.0003],\n       [0.0015, 0.0003, 0.0003],\n       [0.0015, 0.0003, 0.0003],\n       [0.0015, 0.0003, 0.0003],\n       [0.0015, 0.0003, 0.0003],\n       [0.0015, 0.0003, 0.0003],\n       [0.0015, 0.0003, 0.0003]])"
     },
     "execution_count": 4,
     "metadata": {},
     "output_type": "execute_result"
    }
   ],
   "source": [
    "evals"
   ],
   "metadata": {
    "collapsed": false,
    "ExecuteTime": {
     "end_time": "2023-12-04T19:00:57.708646500Z",
     "start_time": "2023-12-04T19:00:57.681670Z"
    }
   },
   "id": "fbd49f9aff0e9d53"
  },
  {
   "cell_type": "code",
   "execution_count": 35,
   "outputs": [
    {
     "name": "stdout",
     "output_type": "stream",
     "text": [
      "[0.03188691 0.03769178 0.07573513 0.14735374 0.19656003 0.13161968\n",
      " 0.07782318 0.04147438 0.04751938 0.06559239]\n",
      "[128  69 167   4 131 175  55  59 133 152]\n"
     ]
    }
   ],
   "source": [
    "indices_top10 = np.argpartition(F_predicted[17], -10)[-10:]\n",
    "\n",
    "# Get the top 10 largest elements\n",
    "print(F_predicted[17][indices_top10])\n",
    "print(indices_top10)"
   ],
   "metadata": {
    "collapsed": false,
    "ExecuteTime": {
     "end_time": "2023-11-29T21:32:34.641644300Z",
     "start_time": "2023-11-29T21:32:34.604369500Z"
    }
   },
   "id": "c6d924ab0c660578"
  },
  {
   "cell_type": "code",
   "execution_count": 36,
   "outputs": [
    {
     "name": "stdout",
     "output_type": "stream",
     "text": [
      "[0.        0.7311289 0.2688711]\n",
      "[179  50  37]\n"
     ]
    }
   ],
   "source": [
    "indices_top3_true = np.argpartition(F_gt[11], -3)[-3:]\n",
    "# Get the top 3 largest elements\n",
    "print(F_gt[11][indices_top3_true])\n",
    "print(indices_top3_true)"
   ],
   "metadata": {
    "collapsed": false,
    "ExecuteTime": {
     "end_time": "2023-11-29T21:32:35.308217100Z",
     "start_time": "2023-11-29T21:32:35.292140700Z"
    }
   },
   "id": "e21abc8db0ab02a6"
  },
  {
   "cell_type": "code",
   "execution_count": 38,
   "outputs": [],
   "source": [
    "sphere = get_sphere('repulsion724').subdivide(1)\n",
    "\n",
    "for i in range(15):\n",
    "    \n",
    "    random_number = random.randint(0, 10000)\n",
    "    odf_gt = multi_tensor_odf(sphere.vertices, evals, angles=angle_pairs,\n",
    "                              fractions=F_gt[random_number])\n",
    "    \n",
    "    odf_predicted = multi_tensor_odf(sphere.vertices, evals, angles=angle_pairs,\n",
    "                              fractions=F_predicted[random_number])\n",
    "    \n",
    "    \n",
    "    from dipy.viz import window, actor\n",
    "    \n",
    "    # Enables/disables interactive visualization\n",
    "    interactive = False\n",
    "    \n",
    "    \n",
    "    scene = window.Scene()\n",
    "    \n",
    "    # concatenate data as 4D array\n",
    "    odfs = np.vstack((odf_gt, odf_predicted))[:, None, None]\n",
    "    odf_actor = actor.odf_slicer(odfs, sphere=sphere, scale=0.5, colormap='plasma')\n",
    "    \n",
    "    odf_actor.display(y=0)\n",
    "    odf_actor.RotateX(90)\n",
    "    scene.add(odf_actor)\n",
    "    window.record(scene, out_path='comparisons/dsid_comparison_' + str(random_number) + '.png', size=(300, 300))\n",
    "    if interactive:\n",
    "        window.show(scene)"
   ],
   "metadata": {
    "collapsed": false,
    "ExecuteTime": {
     "end_time": "2023-11-29T21:37:59.853345800Z",
     "start_time": "2023-11-29T21:37:19.939336Z"
    }
   },
   "id": "8d63249d71a8b221"
  }
 ],
 "metadata": {
  "kernelspec": {
   "display_name": "Python 3",
   "language": "python",
   "name": "python3"
  },
  "language_info": {
   "codemirror_mode": {
    "name": "ipython",
    "version": 2
   },
   "file_extension": ".py",
   "mimetype": "text/x-python",
   "name": "python",
   "nbconvert_exporter": "python",
   "pygments_lexer": "ipython2",
   "version": "2.7.6"
  }
 },
 "nbformat": 4,
 "nbformat_minor": 5
}
