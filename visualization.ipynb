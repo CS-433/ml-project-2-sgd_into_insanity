{
 "cells": [
  {
   "cell_type": "code",
   "execution_count": 1,
   "outputs": [],
   "source": [
    "import matplotlib.pyplot as plt\n",
    "import numpy as np\n",
    "import pandas as pd\n",
    "import random\n",
    "\n",
    "from dipy.core.sphere import disperse_charges, HemiSphere\n",
    "from dipy.core.gradients import gradient_table\n",
    "from dipy.sims.voxel import multi_tensor, multi_tensor_odf\n",
    "from dipy.data import get_fnames, get_sphere\n",
    "from dipy.viz import window, actor\n",
    "from dipy.reconst.dsi import (DiffusionSpectrumDeconvModel,\n",
    "                              DiffusionSpectrumModel)"
   ],
   "metadata": {
    "collapsed": false,
    "ExecuteTime": {
     "end_time": "2023-12-15T20:47:33.351586600Z",
     "start_time": "2023-12-15T20:47:30.678457200Z"
    }
   },
   "id": "8f59cf6d36f5c948"
  },
  {
   "cell_type": "code",
   "execution_count": 2,
   "outputs": [
    {
     "ename": "FileNotFoundError",
     "evalue": "[Errno 2] No such file or directory: 'train_results/F_test.pkl'",
     "output_type": "error",
     "traceback": [
      "\u001B[1;31m---------------------------------------------------------------------------\u001B[0m",
      "\u001B[1;31mFileNotFoundError\u001B[0m                         Traceback (most recent call last)",
      "Cell \u001B[1;32mIn[2], line 3\u001B[0m\n\u001B[0;32m      1\u001B[0m \u001B[38;5;66;03m#S_gt = pd.read_pickle(\"train_results/S_test.pkl\")\u001B[39;00m\n\u001B[0;32m      2\u001B[0m \u001B[38;5;66;03m#S_predicted = pd.read_pickle(\"train_results/S_predicted.pkl\")\u001B[39;00m\n\u001B[1;32m----> 3\u001B[0m F_gt \u001B[38;5;241m=\u001B[39m \u001B[43mpd\u001B[49m\u001B[38;5;241;43m.\u001B[39;49m\u001B[43mread_pickle\u001B[49m\u001B[43m(\u001B[49m\u001B[38;5;124;43m\"\u001B[39;49m\u001B[38;5;124;43mtrain_results/F_test.pkl\u001B[39;49m\u001B[38;5;124;43m\"\u001B[39;49m\u001B[43m)\u001B[49m\n\u001B[0;32m      4\u001B[0m F_predicted \u001B[38;5;241m=\u001B[39m pd\u001B[38;5;241m.\u001B[39mread_pickle(\u001B[38;5;124m\"\u001B[39m\u001B[38;5;124mtrain_results/F_pred.pkl\u001B[39m\u001B[38;5;124m\"\u001B[39m)\n\u001B[0;32m      5\u001B[0m angle_pairs \u001B[38;5;241m=\u001B[39m pd\u001B[38;5;241m.\u001B[39mread_pickle(\u001B[38;5;124m\"\u001B[39m\u001B[38;5;124msynthetic_data/angle_pairs.pkl\u001B[39m\u001B[38;5;124m\"\u001B[39m)\n",
      "File \u001B[1;32m~\\AppData\\Local\\Packages\\PythonSoftwareFoundation.Python.3.10_qbz5n2kfra8p0\\LocalCache\\local-packages\\Python310\\site-packages\\pandas\\io\\pickle.py:189\u001B[0m, in \u001B[0;36mread_pickle\u001B[1;34m(filepath_or_buffer, compression, storage_options)\u001B[0m\n\u001B[0;32m    125\u001B[0m \u001B[38;5;250m\u001B[39m\u001B[38;5;124;03m\"\"\"\u001B[39;00m\n\u001B[0;32m    126\u001B[0m \u001B[38;5;124;03mLoad pickled pandas object (or any object) from file.\u001B[39;00m\n\u001B[0;32m    127\u001B[0m \n\u001B[1;32m   (...)\u001B[0m\n\u001B[0;32m    186\u001B[0m \u001B[38;5;124;03m4    4    9\u001B[39;00m\n\u001B[0;32m    187\u001B[0m \u001B[38;5;124;03m\"\"\"\u001B[39;00m\n\u001B[0;32m    188\u001B[0m excs_to_catch \u001B[38;5;241m=\u001B[39m (\u001B[38;5;167;01mAttributeError\u001B[39;00m, \u001B[38;5;167;01mImportError\u001B[39;00m, \u001B[38;5;167;01mModuleNotFoundError\u001B[39;00m, \u001B[38;5;167;01mTypeError\u001B[39;00m)\n\u001B[1;32m--> 189\u001B[0m \u001B[38;5;28;01mwith\u001B[39;00m \u001B[43mget_handle\u001B[49m\u001B[43m(\u001B[49m\n\u001B[0;32m    190\u001B[0m \u001B[43m    \u001B[49m\u001B[43mfilepath_or_buffer\u001B[49m\u001B[43m,\u001B[49m\n\u001B[0;32m    191\u001B[0m \u001B[43m    \u001B[49m\u001B[38;5;124;43m\"\u001B[39;49m\u001B[38;5;124;43mrb\u001B[39;49m\u001B[38;5;124;43m\"\u001B[39;49m\u001B[43m,\u001B[49m\n\u001B[0;32m    192\u001B[0m \u001B[43m    \u001B[49m\u001B[43mcompression\u001B[49m\u001B[38;5;241;43m=\u001B[39;49m\u001B[43mcompression\u001B[49m\u001B[43m,\u001B[49m\n\u001B[0;32m    193\u001B[0m \u001B[43m    \u001B[49m\u001B[43mis_text\u001B[49m\u001B[38;5;241;43m=\u001B[39;49m\u001B[38;5;28;43;01mFalse\u001B[39;49;00m\u001B[43m,\u001B[49m\n\u001B[0;32m    194\u001B[0m \u001B[43m    \u001B[49m\u001B[43mstorage_options\u001B[49m\u001B[38;5;241;43m=\u001B[39;49m\u001B[43mstorage_options\u001B[49m\u001B[43m,\u001B[49m\n\u001B[0;32m    195\u001B[0m \u001B[43m\u001B[49m\u001B[43m)\u001B[49m \u001B[38;5;28;01mas\u001B[39;00m handles:\n\u001B[0;32m    196\u001B[0m     \u001B[38;5;66;03m# 1) try standard library Pickle\u001B[39;00m\n\u001B[0;32m    197\u001B[0m     \u001B[38;5;66;03m# 2) try pickle_compat (older pandas version) to handle subclass changes\u001B[39;00m\n\u001B[0;32m    198\u001B[0m     \u001B[38;5;66;03m# 3) try pickle_compat with latin-1 encoding upon a UnicodeDecodeError\u001B[39;00m\n\u001B[0;32m    200\u001B[0m     \u001B[38;5;28;01mtry\u001B[39;00m:\n\u001B[0;32m    201\u001B[0m         \u001B[38;5;66;03m# TypeError for Cython complaints about object.__new__ vs Tick.__new__\u001B[39;00m\n\u001B[0;32m    202\u001B[0m         \u001B[38;5;28;01mtry\u001B[39;00m:\n",
      "File \u001B[1;32m~\\AppData\\Local\\Packages\\PythonSoftwareFoundation.Python.3.10_qbz5n2kfra8p0\\LocalCache\\local-packages\\Python310\\site-packages\\pandas\\io\\common.py:872\u001B[0m, in \u001B[0;36mget_handle\u001B[1;34m(path_or_buf, mode, encoding, compression, memory_map, is_text, errors, storage_options)\u001B[0m\n\u001B[0;32m    863\u001B[0m         handle \u001B[38;5;241m=\u001B[39m \u001B[38;5;28mopen\u001B[39m(\n\u001B[0;32m    864\u001B[0m             handle,\n\u001B[0;32m    865\u001B[0m             ioargs\u001B[38;5;241m.\u001B[39mmode,\n\u001B[1;32m   (...)\u001B[0m\n\u001B[0;32m    868\u001B[0m             newline\u001B[38;5;241m=\u001B[39m\u001B[38;5;124m\"\u001B[39m\u001B[38;5;124m\"\u001B[39m,\n\u001B[0;32m    869\u001B[0m         )\n\u001B[0;32m    870\u001B[0m     \u001B[38;5;28;01melse\u001B[39;00m:\n\u001B[0;32m    871\u001B[0m         \u001B[38;5;66;03m# Binary mode\u001B[39;00m\n\u001B[1;32m--> 872\u001B[0m         handle \u001B[38;5;241m=\u001B[39m \u001B[38;5;28;43mopen\u001B[39;49m\u001B[43m(\u001B[49m\u001B[43mhandle\u001B[49m\u001B[43m,\u001B[49m\u001B[43m \u001B[49m\u001B[43mioargs\u001B[49m\u001B[38;5;241;43m.\u001B[39;49m\u001B[43mmode\u001B[49m\u001B[43m)\u001B[49m\n\u001B[0;32m    873\u001B[0m     handles\u001B[38;5;241m.\u001B[39mappend(handle)\n\u001B[0;32m    875\u001B[0m \u001B[38;5;66;03m# Convert BytesIO or file objects passed with an encoding\u001B[39;00m\n",
      "\u001B[1;31mFileNotFoundError\u001B[0m: [Errno 2] No such file or directory: 'train_results/F_test.pkl'"
     ]
    }
   ],
   "source": [
    "#S_gt = pd.read_pickle(\"train_results/S_test.pkl\")\n",
    "#S_predicted = pd.read_pickle(\"train_results/S_predicted.pkl\")\n",
    "F_gt = pd.read_pickle(\"train_results/F_test.pkl\")\n",
    "F_predicted = pd.read_pickle(\"train_results/F_pred.pkl\")\n",
    "angle_pairs = pd.read_pickle(\"synthetic_data/angle_pairs.pkl\")"
   ],
   "metadata": {
    "collapsed": false,
    "ExecuteTime": {
     "end_time": "2023-12-15T20:47:34.245784700Z",
     "start_time": "2023-12-15T20:47:33.355576500Z"
    }
   },
   "id": "92a88daaaa7edb8b"
  },
  {
   "cell_type": "code",
   "execution_count": null,
   "outputs": [],
   "source": [
    "evals = np.tile([0.0015, 0.00039, 0.00039], (len(angle_pairs), 1))"
   ],
   "metadata": {
    "collapsed": false,
    "ExecuteTime": {
     "end_time": "2023-12-15T20:47:34.257777Z",
     "start_time": "2023-12-15T20:47:34.250764Z"
    }
   },
   "id": "dba4d775d3aa899b"
  },
  {
   "cell_type": "code",
   "execution_count": null,
   "outputs": [],
   "source": [
    "evals"
   ],
   "metadata": {
    "collapsed": false,
    "ExecuteTime": {
     "start_time": "2023-12-15T20:47:34.253755900Z"
    }
   },
   "id": "fbd49f9aff0e9d53"
  },
  {
   "cell_type": "code",
   "execution_count": 35,
   "outputs": [
    {
     "name": "stdout",
     "output_type": "stream",
     "text": [
      "[0.03188691 0.03769178 0.07573513 0.14735374 0.19656003 0.13161968\n",
      " 0.07782318 0.04147438 0.04751938 0.06559239]\n",
      "[128  69 167   4 131 175  55  59 133 152]\n"
     ]
    }
   ],
   "source": [
    "indices_top10 = np.argpartition(F_predicted[17], -10)[-10:]\n",
    "\n",
    "# Get the top 10 largest elements\n",
    "print(F_predicted[17][indices_top10])\n",
    "print(indices_top10)"
   ],
   "metadata": {
    "collapsed": false
   },
   "id": "c6d924ab0c660578"
  },
  {
   "cell_type": "code",
   "execution_count": 36,
   "outputs": [
    {
     "name": "stdout",
     "output_type": "stream",
     "text": [
      "[0.        0.7311289 0.2688711]\n",
      "[179  50  37]\n"
     ]
    }
   ],
   "source": [
    "indices_top3_true = np.argpartition(F_gt[11], -3)[-3:]\n",
    "# Get the top 3 largest elements\n",
    "print(F_gt[11][indices_top3_true])\n",
    "print(indices_top3_true)"
   ],
   "metadata": {
    "collapsed": false
   },
   "id": "e21abc8db0ab02a6"
  },
  {
   "cell_type": "code",
   "execution_count": 38,
   "outputs": [],
   "source": [
    "sphere = get_sphere('repulsion724').subdivide(1)\n",
    "\n",
    "for i in range(15):\n",
    "    \n",
    "    random_number = random.randint(0, 10000)\n",
    "    odf_gt = multi_tensor_odf(sphere.vertices, evals, angles=angle_pairs,\n",
    "                              fractions=F_gt[random_number])\n",
    "    \n",
    "    odf_predicted = multi_tensor_odf(sphere.vertices, evals, angles=angle_pairs,\n",
    "                              fractions=F_predicted[random_number])\n",
    "    \n",
    "    \n",
    "    from dipy.viz import window, actor\n",
    "    \n",
    "    # Enables/disables interactive visualization\n",
    "    interactive = False\n",
    "    \n",
    "    \n",
    "    scene = window.Scene()\n",
    "    \n",
    "    # concatenate data as 4D array\n",
    "    odfs = np.vstack((odf_gt, odf_predicted))[:, None, None]\n",
    "    odf_actor = actor.odf_slicer(odfs, sphere=sphere, scale=0.5, colormap='plasma')\n",
    "    \n",
    "    odf_actor.display(y=0)\n",
    "    odf_actor.RotateX(90)\n",
    "    scene.add(odf_actor)\n",
    "    window.record(scene, out_path='comparisons/dsid_comparison_' + str(random_number) + '.png', size=(300, 300))\n",
    "    if interactive:\n",
    "        window.show(scene)"
   ],
   "metadata": {
    "collapsed": false,
    "ExecuteTime": {
     "end_time": "2023-11-29T21:37:59.853345800Z",
     "start_time": "2023-11-29T21:37:19.939336Z"
    }
   },
   "id": "8d63249d71a8b221"
  }
 ],
 "metadata": {
  "kernelspec": {
   "display_name": "Python 3",
   "language": "python",
   "name": "python3"
  },
  "language_info": {
   "codemirror_mode": {
    "name": "ipython",
    "version": 2
   },
   "file_extension": ".py",
   "mimetype": "text/x-python",
   "name": "python",
   "nbconvert_exporter": "python",
   "pygments_lexer": "ipython2",
   "version": "2.7.6"
  }
 },
 "nbformat": 4,
 "nbformat_minor": 5
}
