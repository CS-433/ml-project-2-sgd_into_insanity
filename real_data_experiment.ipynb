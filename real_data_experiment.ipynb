{
 "cells": [
  {
   "cell_type": "code",
   "execution_count": 1,
   "id": "initial_id",
   "metadata": {
    "collapsed": true,
    "ExecuteTime": {
     "end_time": "2023-12-03T15:16:50.205504800Z",
     "start_time": "2023-12-03T15:16:46.671140100Z"
    }
   },
   "outputs": [],
   "source": [
    "import matplotlib.pyplot as plt\n",
    "import numpy as np\n",
    "import pandas as pd\n",
    "import pickle\n",
    "\n",
    "from dipy.core.sphere import disperse_charges, HemiSphere\n",
    "from dipy.core.gradients import gradient_table\n",
    "from dipy.data import get_sphere\n",
    "from dipy.sims.voxel import multi_tensor, multi_tensor_odf\n",
    "#from dipy.viz import window, actor\n",
    "import nibabel as nib"
   ]
  },
  {
   "cell_type": "code",
   "execution_count": 13,
   "outputs": [],
   "source": [
    "# Open the file in read mode\n",
    "with open('real_data/hardi-scheme.bvec.txt', 'r') as file:\n",
    "    # Read the lines from the file\n",
    "    lines = file.readlines()\n",
    "\n",
    "# Initialize an empty matrix to store the values\n",
    "real_bvecs = []\n",
    "\n",
    "# Iterate through each line\n",
    "for line in lines:\n",
    "    # Split the line into individual values\n",
    "    values = line.split() \n",
    "    # Convert the values to integers and append to the matrix\n",
    "    real_bvecs.append([float(value) for value in values])\n",
    "\n",
    "# Convert the list of lists into a 2D NumPy array\n",
    "real_bvecs = np.array(real_bvecs).T"
   ],
   "metadata": {
    "collapsed": false,
    "ExecuteTime": {
     "end_time": "2023-12-03T15:27:15.882620800Z",
     "start_time": "2023-12-03T15:27:15.861677300Z"
    }
   },
   "id": "67eefc1a5ac7a1cb"
  },
  {
   "cell_type": "code",
   "execution_count": 16,
   "outputs": [],
   "source": [
    "# Open the file in read mode\n",
    "with open('real_data/hardi-scheme.bval.txt', 'r') as file:\n",
    "    # Read the lines from the file\n",
    "    lines = file.readlines()\n",
    "\n",
    "# Initialize an empty matrix to store the values\n",
    "real_bvals = []\n",
    "\n",
    "# Iterate through each line\n",
    "for line in lines:\n",
    "    # Split the line into individual values\n",
    "    values = line.split() \n",
    "    # Convert the values to integers and append to the matrix\n",
    "    real_bvals.append([float(value) for value in values])\n",
    "\n",
    "# Convert the list of lists into a 2D NumPy array\n",
    "real_bvals = np.array(real_bvals).T"
   ],
   "metadata": {
    "collapsed": false,
    "ExecuteTime": {
     "end_time": "2023-12-03T15:27:30.323145800Z",
     "start_time": "2023-12-03T15:27:30.300024700Z"
    }
   },
   "id": "73d341ad61b4f1e4"
  },
  {
   "cell_type": "code",
   "execution_count": 62,
   "outputs": [],
   "source": [
    "mask = nib.load('real_data/mask.nii').get_fdata().astype(bool)\n",
    "white_mask = nib.load('real_data/white_matter_mask.nii').get_fdata().astype(bool)\n",
    "\n",
    "hardi_snr10 = nib.load('real_data/DWIS_hardi-scheme_SNR-10.nii').get_fdata()\n",
    "hardi_snr20 = nib.load('real_data/DWIS_hardi-scheme_SNR-20.nii').get_fdata()\n",
    "hardi_snr30 = nib.load('real_data/DWIS_hardi-scheme_SNR-30.nii').get_fdata()"
   ],
   "metadata": {
    "collapsed": false,
    "ExecuteTime": {
     "end_time": "2023-12-03T16:55:46.776217500Z",
     "start_time": "2023-12-03T16:55:46.658765Z"
    }
   },
   "id": "c553d563be93a463"
  },
  {
   "cell_type": "code",
   "execution_count": 48,
   "outputs": [
    {
     "name": "stdout",
     "output_type": "stream",
     "text": [
      "(50, 50, 50)\n",
      "(50, 50, 50)\n",
      "(50, 50, 50, 65)\n",
      "(50, 50, 50, 65)\n",
      "(50, 50, 50, 65)\n"
     ]
    }
   ],
   "source": [
    "print(mask.shape)\n",
    "print(white_mask.shape)\n",
    "print(hardi_snr10.shape)\n",
    "print(hardi_snr20.shape)\n",
    "print(hardi_snr30.shape)"
   ],
   "metadata": {
    "collapsed": false,
    "ExecuteTime": {
     "end_time": "2023-12-03T16:41:48.545685200Z",
     "start_time": "2023-12-03T16:41:48.525339200Z"
    }
   },
   "id": "6c78c9c6a5ef939a"
  },
  {
   "cell_type": "code",
   "execution_count": 63,
   "outputs": [],
   "source": [
    "hardi_snr10_masked = hardi_snr10[mask]\n",
    "hardi_snr20_masked = hardi_snr20[mask]\n",
    "hardi_snr30_masked = hardi_snr30[mask]\n",
    "\n",
    "hardi_snr10_white_masked = hardi_snr10[white_mask]\n",
    "hardi_snr20_white_masked = hardi_snr20[white_mask]\n",
    "hardi_snr30_white_masked = hardi_snr30[white_mask]"
   ],
   "metadata": {
    "collapsed": false,
    "ExecuteTime": {
     "end_time": "2023-12-03T16:56:19.777750700Z",
     "start_time": "2023-12-03T16:56:19.548383500Z"
    }
   },
   "id": "9cb66d1355200529"
  },
  {
   "cell_type": "code",
   "execution_count": 54,
   "outputs": [
    {
     "name": "stdout",
     "output_type": "stream",
     "text": [
      "[32767.]\n",
      "[32767.]\n",
      "[32767.]\n"
     ]
    }
   ],
   "source": [
    "print(np.unique(hardi_snr10_masked[:, 0]))\n",
    "print(np.unique(hardi_snr20_masked[:, 0]))\n",
    "print(np.unique(hardi_snr30_masked[:, 0]))"
   ],
   "metadata": {
    "collapsed": false,
    "ExecuteTime": {
     "end_time": "2023-12-03T16:44:08.570434800Z",
     "start_time": "2023-12-03T16:44:08.523560800Z"
    }
   },
   "id": "a015ca8cbc4ad8ad"
  },
  {
   "cell_type": "code",
   "execution_count": 65,
   "outputs": [
    {
     "data": {
      "text/plain": "array([[32767., 17382., 17196., ..., 18169., 18412., 19504.],\n       [32767., 12645., 15117., ..., 17671., 15901., 13331.],\n       [32767., 16494., 16372., ..., 13863., 15295., 15067.],\n       ...,\n       [32767., 17974., 17056., ..., 19321., 19739., 16933.],\n       [32767., 16551., 16021., ..., 17750., 18141., 17934.],\n       [32767., 19966., 22112., ..., 12102., 18895., 20646.]])"
     },
     "execution_count": 65,
     "metadata": {},
     "output_type": "execute_result"
    }
   ],
   "source": [
    "hardi_snr20_masked"
   ],
   "metadata": {
    "collapsed": false,
    "ExecuteTime": {
     "end_time": "2023-12-03T16:57:07.399604600Z",
     "start_time": "2023-12-03T16:57:07.393620800Z"
    }
   },
   "id": "6dcbc454a6112c78"
  },
  {
   "cell_type": "code",
   "execution_count": 46,
   "outputs": [
    {
     "data": {
      "text/plain": "array([[101.5080676 ,  20.95370973,  34.23132858, ...,  31.12302894,\n         44.74314952,  17.33389022],\n       [103.74475535,   5.12679982,  33.74477361, ...,  11.2878282 ,\n         19.22472728,   2.09093357],\n       [102.01386271,   4.38546113,  35.0340697 , ...,  13.66072395,\n         42.62039687,  11.27049871],\n       ...,\n       [ 94.14126593,  15.7646205 ,  13.09723654, ...,  34.2234946 ,\n          7.666609  ,  46.17351516],\n       [ 96.11551131,  24.82656573,  59.17329175, ...,  55.31372756,\n          8.53189147,  22.37239805],\n       [ 97.4472722 ,  29.26528404,   6.54112746, ...,   4.68972207,\n         60.44081301,   0.7381841 ]])"
     },
     "execution_count": 46,
     "metadata": {},
     "output_type": "execute_result"
    }
   ],
   "source": [
    "S = np.load(\"synthetic_data/S.npy\")\n",
    "S"
   ],
   "metadata": {
    "collapsed": false,
    "ExecuteTime": {
     "end_time": "2023-12-03T16:39:09.926740400Z",
     "start_time": "2023-12-03T16:39:09.873911900Z"
    }
   },
   "id": "4e68663720037dc5"
  }
 ],
 "metadata": {
  "kernelspec": {
   "display_name": "Python 3",
   "language": "python",
   "name": "python3"
  },
  "language_info": {
   "codemirror_mode": {
    "name": "ipython",
    "version": 2
   },
   "file_extension": ".py",
   "mimetype": "text/x-python",
   "name": "python",
   "nbconvert_exporter": "python",
   "pygments_lexer": "ipython2",
   "version": "2.7.6"
  }
 },
 "nbformat": 4,
 "nbformat_minor": 5
}
