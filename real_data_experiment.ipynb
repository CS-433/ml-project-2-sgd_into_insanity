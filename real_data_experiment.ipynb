{
 "cells": [
  {
   "cell_type": "code",
   "execution_count": 49,
   "id": "initial_id",
   "metadata": {
    "collapsed": true,
    "ExecuteTime": {
     "end_time": "2023-12-04T15:56:43.588715500Z",
     "start_time": "2023-12-04T15:56:43.548753100Z"
    }
   },
   "outputs": [],
   "source": [
    "import matplotlib.pyplot as plt\n",
    "import numpy as np\n",
    "import pandas as pd\n",
    "import pickle\n",
    "from scipy.stats import ttest_ind\n",
    "from dipy.core.sphere import disperse_charges, HemiSphere\n",
    "from dipy.core.gradients import gradient_table\n",
    "from dipy.data import get_sphere\n",
    "from dipy.sims.voxel import multi_tensor, multi_tensor_odf\n",
    "#from dipy.viz import window, actor\n",
    "import nibabel as nib"
   ]
  },
  {
   "cell_type": "code",
   "execution_count": 50,
   "outputs": [],
   "source": [
    "# Open the file in read mode\n",
    "with open('real_data/hardi-scheme.bvec.txt', 'r') as file:\n",
    "    # Read the lines from the file\n",
    "    lines = file.readlines()\n",
    "\n",
    "# Initialize an empty matrix to store the values\n",
    "real_bvecs = []\n",
    "\n",
    "# Iterate through each line\n",
    "for line in lines:\n",
    "    # Split the line into individual values\n",
    "    values = line.split() \n",
    "    # Convert the values to integers and append to the matrix\n",
    "    real_bvecs.append([float(value) for value in values])\n",
    "\n",
    "# Convert the list of lists into a 2D NumPy array\n",
    "real_bvecs = np.array(real_bvecs).T"
   ],
   "metadata": {
    "collapsed": false,
    "ExecuteTime": {
     "end_time": "2023-12-04T15:56:43.638854Z",
     "start_time": "2023-12-04T15:56:43.568850700Z"
    }
   },
   "id": "67eefc1a5ac7a1cb"
  },
  {
   "cell_type": "code",
   "execution_count": 51,
   "outputs": [],
   "source": [
    "# Open the file in read mode\n",
    "with open('real_data/hardi-scheme.bval.txt', 'r') as file:\n",
    "    # Read the lines from the file\n",
    "    lines = file.readlines()\n",
    "\n",
    "# Initialize an empty matrix to store the values\n",
    "real_bvals = []\n",
    "\n",
    "# Iterate through each line\n",
    "for line in lines:\n",
    "    # Split the line into individual values\n",
    "    values = line.split() \n",
    "    # Convert the values to integers and append to the matrix\n",
    "    real_bvals.append([float(value) for value in values])\n",
    "\n",
    "# Convert the list of lists into a 2D NumPy array\n",
    "real_bvals = np.array(real_bvals).T"
   ],
   "metadata": {
    "collapsed": false,
    "ExecuteTime": {
     "end_time": "2023-12-04T15:56:43.638854Z",
     "start_time": "2023-12-04T15:56:43.579047100Z"
    }
   },
   "id": "73d341ad61b4f1e4"
  },
  {
   "cell_type": "code",
   "execution_count": 52,
   "outputs": [],
   "source": [
    "mask = nib.load('real_data/mask.nii').get_fdata().astype(bool)\n",
    "white_mask = nib.load('real_data/white_matter_mask.nii').get_fdata().astype(bool)\n",
    "\n",
    "hardi_snr10 = nib.load('real_data/DWIS_hardi-scheme_SNR-10.nii').get_fdata()\n",
    "hardi_snr20 = nib.load('real_data/DWIS_hardi-scheme_SNR-20.nii').get_fdata()\n",
    "hardi_snr30 = nib.load('real_data/DWIS_hardi-scheme_SNR-30.nii').get_fdata()"
   ],
   "metadata": {
    "collapsed": false,
    "ExecuteTime": {
     "end_time": "2023-12-04T15:56:43.722067700Z",
     "start_time": "2023-12-04T15:56:43.598786700Z"
    }
   },
   "id": "c553d563be93a463"
  },
  {
   "cell_type": "code",
   "execution_count": 53,
   "outputs": [
    {
     "name": "stdout",
     "output_type": "stream",
     "text": [
      "(50, 50, 50)\n",
      "(50, 50, 50)\n",
      "(50, 50, 50, 65)\n",
      "(50, 50, 50, 65)\n",
      "(50, 50, 50, 65)\n"
     ]
    }
   ],
   "source": [
    "print(mask.shape)\n",
    "print(white_mask.shape)\n",
    "print(hardi_snr10.shape)\n",
    "print(hardi_snr20.shape)\n",
    "print(hardi_snr30.shape)"
   ],
   "metadata": {
    "collapsed": false,
    "ExecuteTime": {
     "end_time": "2023-12-04T15:56:43.738697400Z",
     "start_time": "2023-12-04T15:56:43.729077100Z"
    }
   },
   "id": "6c78c9c6a5ef939a"
  },
  {
   "cell_type": "code",
   "execution_count": 54,
   "outputs": [],
   "source": [
    "hardi_snr10_masked = hardi_snr10[mask]\n",
    "hardi_snr20_masked = hardi_snr20[mask]\n",
    "hardi_snr30_masked = hardi_snr30[mask]\n",
    "hardi_snr10_masked *= (100/hardi_snr10_masked[0][0])\n",
    "hardi_snr20_masked *= hardi_snr20_masked * (100/hardi_snr20_masked[0][0])\n",
    "hardi_snr30_masked *= hardi_snr30_masked * (100/hardi_snr30_masked[0][0])\n",
    "\n",
    "hardi_snr10_white_masked = hardi_snr10[white_mask]\n",
    "hardi_snr20_white_masked = hardi_snr20[white_mask]\n",
    "hardi_snr30_white_masked = hardi_snr30[white_mask]\n",
    "hardi_snr10_white_masked *= (100/hardi_snr10_white_masked[0][0])\n",
    "hardi_snr20_white_masked *= (100/hardi_snr20_white_masked[0][0])\n",
    "hardi_snr30_white_masked *= (100/hardi_snr30_white_masked[0][0])"
   ],
   "metadata": {
    "collapsed": false,
    "ExecuteTime": {
     "end_time": "2023-12-04T15:56:43.979012500Z",
     "start_time": "2023-12-04T15:56:43.738697400Z"
    }
   },
   "id": "9cb66d1355200529"
  },
  {
   "cell_type": "code",
   "execution_count": 55,
   "outputs": [
    {
     "data": {
      "text/plain": "array([[100.        ,  16.68141728,  18.07916501, ...,  45.47868282,\n         34.99557482,  33.45439009],\n       [100.        ,  59.48667867,  33.93658254, ...,  47.00155644,\n         30.4361095 ,  61.85186316],\n       [100.        ,   4.21460616,  34.94369335, ...,  25.97735527,\n          1.99285867,  11.76183355],\n       ...,\n       [100.        ,  42.30170598,  43.54686117, ...,  46.70857875,\n         51.6891995 ,  49.24161504],\n       [100.        ,  44.74013489,  25.11978515, ...,  35.18784143,\n          7.30002747,  23.44431898],\n       [100.        ,  32.28247932,  31.48289438, ...,  35.86230049,\n         12.74147771,  15.92455824]])"
     },
     "execution_count": 55,
     "metadata": {},
     "output_type": "execute_result"
    }
   ],
   "source": [
    "hardi_white_masked_all = np.vstack((hardi_snr10_white_masked, hardi_snr20_white_masked, hardi_snr30_white_masked))\n",
    "np.random.seed(42)\n",
    "np.random.shuffle(hardi_white_masked_all)\n",
    "hardi_white_masked_all"
   ],
   "metadata": {
    "collapsed": false,
    "ExecuteTime": {
     "end_time": "2023-12-04T15:56:44.096079400Z",
     "start_time": "2023-12-04T15:56:43.979012500Z"
    }
   },
   "id": "a015ca8cbc4ad8ad"
  },
  {
   "cell_type": "code",
   "execution_count": 56,
   "outputs": [
    {
     "data": {
      "text/plain": "array([[101.32133617,   9.7680149 ,  16.03036238, ...,  16.87972262,\n         20.07306575,  11.25303949],\n       [104.28149415,   5.93050041,  17.23509324, ...,   7.42570262,\n         11.71860801,   2.49698402],\n       [103.57953331,   7.99781564,  18.99560582, ...,  10.78589485,\n         22.75529833,  14.35087365],\n       ...,\n       [ 96.46219418,  10.66674691,  11.73221267, ...,  19.86385006,\n          4.7021142 ,  22.63979334],\n       [ 96.11551131,  18.48065961,  31.7608741 , ...,  26.778466  ,\n          8.03349262,  13.10915869],\n       [ 97.62307686,  15.71742277,   6.7593108 , ...,   4.95291458,\n         31.89899917,   0.44614374]])"
     },
     "execution_count": 56,
     "metadata": {},
     "output_type": "execute_result"
    }
   ],
   "source": [
    "S = np.load(\"synthetic_data/S.npy\")\n",
    "S"
   ],
   "metadata": {
    "collapsed": false,
    "ExecuteTime": {
     "end_time": "2023-12-04T15:56:44.128876800Z",
     "start_time": "2023-12-04T15:56:44.096079400Z"
    }
   },
   "id": "4e68663720037dc5"
  },
  {
   "cell_type": "code",
   "execution_count": 57,
   "outputs": [
    {
     "name": "stdout",
     "output_type": "stream",
     "text": [
      "Mean of standard deviations of real data: 12.763\n",
      "Mean of standard deviations of synthetic data: 12.671\n",
      "p-value of t-test between standard deviations: 0.000\n"
     ]
    }
   ],
   "source": [
    "S_sample_rows = np.random.choice(S.shape[0], size= hardi_white_masked_all.shape[0], replace=False)\n",
    "S_sampled = S[S_sample_rows, :]\n",
    "\n",
    "real_row_std = np.std(hardi_white_masked_all, axis=1)\n",
    "synthetic_row_std = np.std(S_sampled, axis=1)\n",
    "\n",
    "print(f\"Mean of standard deviations of real data: {real_row_std.mean():.3f}\")\n",
    "print(f\"Mean of standard deviations of synthetic data: {synthetic_row_std.mean():.3f}\")\n",
    "\n",
    "t_statistic, p_value = ttest_ind(real_row_std, synthetic_row_std)\n",
    "print(f\"p-value of t-test between standard deviations: {p_value:.3f}\")"
   ],
   "metadata": {
    "collapsed": false,
    "ExecuteTime": {
     "end_time": "2023-12-04T15:56:44.209062200Z",
     "start_time": "2023-12-04T15:56:44.128876800Z"
    }
   },
   "id": "889599029848844a"
  },
  {
   "cell_type": "code",
   "execution_count": 60,
   "outputs": [
    {
     "name": "stdout",
     "output_type": "stream",
     "text": [
      "Standard deviation of standard deviations for different signals - real: 2.747\n",
      "Standard deviation of standard deviations for different signals - synthetic: 0.958\n"
     ]
    }
   ],
   "source": [
    "print(f\"Standard deviation of standard deviations for different signals - real: {np.std(real_row_std):.3f}\")\n",
    "print(f\"Standard deviation of standard deviations for different signals - synthetic: {np.std(synthetic_row_std):.3f}\")"
   ],
   "metadata": {
    "collapsed": false,
    "ExecuteTime": {
     "end_time": "2023-12-04T16:01:30.463172600Z",
     "start_time": "2023-12-04T16:01:30.447543900Z"
    }
   },
   "id": "a97b7c5c3c6b0cf"
  }
 ],
 "metadata": {
  "kernelspec": {
   "display_name": "Python 3",
   "language": "python",
   "name": "python3"
  },
  "language_info": {
   "codemirror_mode": {
    "name": "ipython",
    "version": 2
   },
   "file_extension": ".py",
   "mimetype": "text/x-python",
   "name": "python",
   "nbconvert_exporter": "python",
   "pygments_lexer": "ipython2",
   "version": "2.7.6"
  }
 },
 "nbformat": 4,
 "nbformat_minor": 5
}
