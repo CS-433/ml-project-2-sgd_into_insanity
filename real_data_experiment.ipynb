{
 "cells": [
  {
   "cell_type": "code",
   "execution_count": 1,
   "id": "initial_id",
   "metadata": {
    "collapsed": true,
    "ExecuteTime": {
     "end_time": "2023-12-11T19:52:56.970015700Z",
     "start_time": "2023-12-11T19:52:52.420013600Z"
    }
   },
   "outputs": [],
   "source": [
    "import matplotlib.pyplot as plt\n",
    "import numpy as np\n",
    "import pandas as pd\n",
    "import pickle\n",
    "from scipy.stats import ttest_ind\n",
    "from dipy.core.sphere import disperse_charges, HemiSphere, Sphere\n",
    "from dipy.core.gradients import gradient_table\n",
    "from dipy.data import get_sphere\n",
    "from dipy.sims.voxel import multi_tensor, multi_tensor_odf\n",
    "from dipy.viz import window, actor\n",
    "import nibabel as nib\n"
   ]
  },
  {
   "cell_type": "code",
   "execution_count": 2,
   "outputs": [],
   "source": [
    "# Open the file in read mode\n",
    "with open('real_data/hardi-scheme.bvec.txt', 'r') as file:\n",
    "    # Read the lines from the file\n",
    "    lines = file.readlines()\n",
    "\n",
    "# Initialize an empty matrix to store the values\n",
    "real_bvecs = []\n",
    "\n",
    "# Iterate through each line\n",
    "for line in lines:\n",
    "    # Split the line into individual values\n",
    "    values = line.split() \n",
    "    # Convert the values to integers and append to the matrix\n",
    "    real_bvecs.append([float(value) for value in values])\n",
    "\n",
    "# Convert the list of lists into a 2D NumPy array\n",
    "real_bvecs = np.array(real_bvecs).T\n"
   ],
   "metadata": {
    "collapsed": false,
    "ExecuteTime": {
     "end_time": "2023-12-11T19:52:57.853315800Z",
     "start_time": "2023-12-11T19:52:57.832893Z"
    }
   },
   "id": "67eefc1a5ac7a1cb"
  },
  {
   "cell_type": "code",
   "execution_count": 3,
   "outputs": [],
   "source": [
    "# Open the file in read mode\n",
    "with open('real_data/hardi-scheme.bval.txt', 'r') as file:\n",
    "    # Read the lines from the file\n",
    "    lines = file.readlines()\n",
    "\n",
    "# Initialize an empty matrix to store the values\n",
    "real_bvals = []\n",
    "\n",
    "# Iterate through each line\n",
    "for line in lines:\n",
    "    # Split the line into individual values\n",
    "    values = line.split() \n",
    "    # Convert the values to integers and append to the matrix\n",
    "    real_bvals.append([float(value) for value in values])\n",
    "\n",
    "# Convert the list of lists into a 2D NumPy array\n",
    "real_bvals = np.array(real_bvals).reshape(-1)"
   ],
   "metadata": {
    "collapsed": false,
    "ExecuteTime": {
     "end_time": "2023-12-11T19:52:58.593236600Z",
     "start_time": "2023-12-11T19:52:58.575006Z"
    }
   },
   "id": "73d341ad61b4f1e4"
  },
  {
   "cell_type": "code",
   "execution_count": 4,
   "outputs": [],
   "source": [
    "gtab = gradient_table(real_bvals, real_bvecs)"
   ],
   "metadata": {
    "collapsed": false,
    "ExecuteTime": {
     "end_time": "2023-12-11T19:52:59.508637700Z",
     "start_time": "2023-12-11T19:52:59.476558800Z"
    }
   },
   "id": "e6958ab6e14308b9"
  },
  {
   "cell_type": "code",
   "execution_count": 5,
   "outputs": [],
   "source": [
    "mask = nib.load('real_data/mask.nii').get_fdata().astype(bool)\n",
    "white_mask = nib.load('real_data/white_matter_mask.nii').get_fdata().astype(bool)\n",
    "\n",
    "hardi_snr10 = nib.load('real_data/DWIS_hardi-scheme_SNR-10.nii').get_fdata()\n",
    "hardi_snr20 = nib.load('real_data/DWIS_hardi-scheme_SNR-20.nii').get_fdata()\n",
    "hardi_snr30 = nib.load('real_data/DWIS_hardi-scheme_SNR-30.nii').get_fdata()"
   ],
   "metadata": {
    "collapsed": false,
    "ExecuteTime": {
     "end_time": "2023-12-11T19:53:00.557907300Z",
     "start_time": "2023-12-11T19:53:00.272680300Z"
    }
   },
   "id": "c553d563be93a463"
  },
  {
   "cell_type": "code",
   "execution_count": 6,
   "outputs": [
    {
     "name": "stdout",
     "output_type": "stream",
     "text": [
      "(50, 50, 50)\n",
      "(50, 50, 50)\n",
      "(50, 50, 50, 65)\n",
      "(50, 50, 50, 65)\n",
      "(50, 50, 50, 65)\n"
     ]
    }
   ],
   "source": [
    "print(mask.shape)\n",
    "print(white_mask.shape)\n",
    "print(hardi_snr10.shape)\n",
    "print(hardi_snr20.shape)\n",
    "print(hardi_snr30.shape)"
   ],
   "metadata": {
    "collapsed": false,
    "ExecuteTime": {
     "end_time": "2023-12-11T19:53:01.150018800Z",
     "start_time": "2023-12-11T19:53:01.090791500Z"
    }
   },
   "id": "6c78c9c6a5ef939a"
  },
  {
   "cell_type": "code",
   "execution_count": 7,
   "outputs": [],
   "source": [
    "hardi_snr10_masked = hardi_snr10[mask]\n",
    "hardi_snr20_masked = hardi_snr20[mask]\n",
    "hardi_snr30_masked = hardi_snr30[mask]\n",
    "hardi_snr10_masked *= (100/hardi_snr10_masked[0][0])\n",
    "hardi_snr20_masked *= (100/hardi_snr20_masked[0][0])\n",
    "hardi_snr30_masked *= (100/hardi_snr30_masked[0][0])\n",
    "\n",
    "hardi_snr10_white_masked = hardi_snr10[white_mask]\n",
    "hardi_snr20_white_masked = hardi_snr20[white_mask]\n",
    "hardi_snr30_white_masked = hardi_snr30[white_mask]\n",
    "hardi_snr10_white_masked *= (100/hardi_snr10_white_masked[0][0])\n",
    "hardi_snr20_white_masked *= (100/hardi_snr20_white_masked[0][0])\n",
    "hardi_snr30_white_masked *= (100/hardi_snr30_white_masked[0][0])"
   ],
   "metadata": {
    "collapsed": false,
    "ExecuteTime": {
     "end_time": "2023-12-11T19:53:02.288477300Z",
     "start_time": "2023-12-11T19:53:01.928993700Z"
    }
   },
   "id": "9cb66d1355200529"
  },
  {
   "cell_type": "code",
   "execution_count": 8,
   "outputs": [
    {
     "data": {
      "text/plain": "array([[100.        ,  16.68141728,  18.07916501, ...,  45.47868282,\n         34.99557482,  33.45439009],\n       [100.        ,  59.48667867,  33.93658254, ...,  47.00155644,\n         30.4361095 ,  61.85186316],\n       [100.        ,   4.21460616,  34.94369335, ...,  25.97735527,\n          1.99285867,  11.76183355],\n       ...,\n       [100.        ,  42.30170598,  43.54686117, ...,  46.70857875,\n         51.6891995 ,  49.24161504],\n       [100.        ,  44.74013489,  25.11978515, ...,  35.18784143,\n          7.30002747,  23.44431898],\n       [100.        ,  32.28247932,  31.48289438, ...,  35.86230049,\n         12.74147771,  15.92455824]])"
     },
     "execution_count": 8,
     "metadata": {},
     "output_type": "execute_result"
    }
   ],
   "source": [
    "hardi_white_masked_all = np.vstack((hardi_snr10_white_masked, hardi_snr20_white_masked, hardi_snr30_white_masked))\n",
    "np.random.seed(42)\n",
    "np.random.shuffle(hardi_white_masked_all)\n",
    "hardi_white_masked_all"
   ],
   "metadata": {
    "collapsed": false,
    "ExecuteTime": {
     "end_time": "2023-12-11T19:53:03.041690300Z",
     "start_time": "2023-12-11T19:53:02.875441200Z"
    }
   },
   "id": "a015ca8cbc4ad8ad"
  },
  {
   "cell_type": "code",
   "execution_count": 9,
   "outputs": [
    {
     "data": {
      "text/plain": "array([[ 96.71590896,   4.66611714,  32.61520167, ...,  16.34358175,\n         29.03217082,  12.84532893],\n       [101.70778659,   8.19222904,  15.3739256 , ...,  23.78507279,\n         23.49252193,  28.01669923],\n       [ 99.0416164 ,  19.01738744,  14.7872993 , ...,  10.50055682,\n          7.38763608,  20.03460253],\n       ...,\n       [103.79594538,   8.05544236,  22.54468078, ...,  15.40619977,\n          9.79957699,   6.47732016],\n       [101.38343745,  17.06057975,  15.37262382, ...,  20.62772848,\n          7.01915072,  15.78139465],\n       [121.6597962 ,  18.95888198,  23.65991403, ...,  28.96503781,\n         11.09697735,  40.25221029]])"
     },
     "execution_count": 9,
     "metadata": {},
     "output_type": "execute_result"
    }
   ],
   "source": [
    "S = np.load(\"synthetic_data/S.npy\")\n",
    "S_noiseless = np.load(\"synthetic_data/S_noiseless.npy\")\n",
    "F = np.load('synthetic_data/F.npy')\n",
    "angle_pairs = pd.read_pickle(\"synthetic_data/angle_pairs.pkl\")\n",
    "S"
   ],
   "metadata": {
    "collapsed": false,
    "ExecuteTime": {
     "end_time": "2023-12-11T19:53:04.846982200Z",
     "start_time": "2023-12-11T19:53:04.152490100Z"
    }
   },
   "id": "4e68663720037dc5"
  },
  {
   "cell_type": "code",
   "execution_count": 10,
   "outputs": [
    {
     "name": "stdout",
     "output_type": "stream",
     "text": [
      "Mean of standard deviations of real data: 12.763\n",
      "Mean of standard deviations of synthetic data: 13.226\n",
      "p-value of t-test between standard deviations: 0.000\n"
     ]
    }
   ],
   "source": [
    "S_sample_rows = np.random.choice(S.shape[0], size= hardi_white_masked_all.shape[0], replace=False)\n",
    "S_sampled = S[S_sample_rows, :]\n",
    "\n",
    "real_row_std = np.std(hardi_white_masked_all, axis=1)\n",
    "synthetic_row_std = np.std(S_sampled, axis=1)\n",
    "\n",
    "print(f\"Mean of standard deviations of real data: {real_row_std.mean():.3f}\")\n",
    "print(f\"Mean of standard deviations of synthetic data: {synthetic_row_std.mean():.3f}\")\n",
    "\n",
    "t_statistic, p_value = ttest_ind(real_row_std, synthetic_row_std)\n",
    "print(f\"p-value of t-test between standard deviations: {p_value:.3f}\")"
   ],
   "metadata": {
    "collapsed": false,
    "ExecuteTime": {
     "end_time": "2023-12-11T19:53:06.309161900Z",
     "start_time": "2023-12-11T19:53:06.023070800Z"
    }
   },
   "id": "889599029848844a"
  },
  {
   "cell_type": "code",
   "execution_count": 11,
   "outputs": [
    {
     "name": "stdout",
     "output_type": "stream",
     "text": [
      "Standard deviation of standard deviations for different signals - real: 2.747\n",
      "Standard deviation of standard deviations for different signals - synthetic: 1.217\n"
     ]
    }
   ],
   "source": [
    "print(f\"Standard deviation of standard deviations for different signals - real: {np.std(real_row_std):.3f}\")\n",
    "print(f\"Standard deviation of standard deviations for different signals - synthetic: {np.std(synthetic_row_std):.3f}\")"
   ],
   "metadata": {
    "collapsed": false,
    "ExecuteTime": {
     "end_time": "2023-12-11T19:53:07.266254400Z",
     "start_time": "2023-12-11T19:53:07.213105200Z"
    }
   },
   "id": "a97b7c5c3c6b0cf"
  },
  {
   "cell_type": "code",
   "execution_count": 71,
   "outputs": [],
   "source": [
    "real_bvecs_fsphere = np.vstack((real_bvecs[1:], -1 * real_bvecs[1:]))\n",
    "sphere = Sphere(xyz=real_bvecs_fsphere)"
   ],
   "metadata": {
    "collapsed": false,
    "ExecuteTime": {
     "end_time": "2023-12-05T21:31:34.355147200Z",
     "start_time": "2023-12-05T21:31:34.321239100Z"
    }
   },
   "id": "c33605d03af7eed6"
  },
  {
   "cell_type": "code",
   "execution_count": 109,
   "outputs": [
    {
     "data": {
      "text/plain": "Text(0.5, 0, 'z Label')"
     },
     "execution_count": 109,
     "metadata": {},
     "output_type": "execute_result"
    },
    {
     "data": {
      "text/plain": "<Figure size 640x480 with 1 Axes>",
      "image/png": "[encoded data removed]"
     },
     "metadata": {},
     "output_type": "display_data"
    }
   ],
   "source": [
    "fig = plt.figure()\n",
    "ax = fig.add_subplot(111, projection='3d')\n",
    "ax.scatter(sphere.vertices[:,0], sphere.vertices[:,1], sphere.vertices[:,2], c='r', marker='o')\n",
    "\n",
    "# Set labels for each axis\n",
    "ax.set_xlabel('x Label')\n",
    "ax.set_ylabel('y Label')\n",
    "ax.set_zlabel('z Label')"
   ],
   "metadata": {
    "collapsed": false,
    "ExecuteTime": {
     "end_time": "2023-12-05T22:47:59.601417Z",
     "start_time": "2023-12-05T22:47:59.414917100Z"
    }
   },
   "id": "5d1d258a2f9b261a"
  },
  {
   "cell_type": "markdown",
   "source": [
    "PLOTTING SYNTHETIC NOISELESS DATA"
   ],
   "metadata": {
    "collapsed": false
   },
   "id": "f5daf4525937b7a0"
  },
  {
   "cell_type": "code",
   "execution_count": 85,
   "outputs": [],
   "source": [
    "random_samples = np.random.randint(0, len(S)-1, size=10)\n",
    "evals = result_array = np.tile([0.0015, 0.00045, 0.00045], (len(angle_pairs), 1))"
   ],
   "metadata": {
    "collapsed": false,
    "ExecuteTime": {
     "end_time": "2023-12-05T21:37:45.176921600Z",
     "start_time": "2023-12-05T21:37:45.162927300Z"
    }
   },
   "id": "4adb86aaf6b10c"
  },
  {
   "cell_type": "code",
   "execution_count": 116,
   "outputs": [],
   "source": [
    "#USING INVERSE SIGNAL AS ODF\n",
    "\n",
    "for i in random_samples:\n",
    "    #We have the signal but we need ODF to plot. We take the inverse??? of the signal (since there is less signal in the fiber directions???) to obtain ODF.\n",
    "    odf_signal = 1 / S_noiseless[i][1:]\n",
    "    #Keeping the initial sum of the signal the same\n",
    "    odf_signal *= S_noiseless[i][1:].sum() / odf_signal.sum()\n",
    "    \n",
    "    odf_signal_full_sphere = np.hstack((S_noiseless[i][1:], S_noiseless[i][1:]))\n",
    "    \n",
    "    odf_actor = actor.odf_slicer(odf_signal_full_sphere[None, None, None, :], sphere=sphere, scale=0.5, colormap='plasma')\n",
    "    \n",
    "    #saving the image\n",
    "    scene = window.Scene()\n",
    "    odf_actor.display(y=0)\n",
    "    odf_actor.RotateX(90)\n",
    "    scene.add(odf_actor)\n",
    "    window.record(scene, out_path='visualization/noiseless_S/' + str(i) + '_S_noiseless_directly_signal.png', size=(300, 300))"
   ],
   "metadata": {
    "collapsed": false,
    "ExecuteTime": {
     "end_time": "2023-12-05T22:55:40.363173400Z",
     "start_time": "2023-12-05T22:55:40.291585900Z"
    }
   },
   "id": "360b948f612a674c"
  },
  {
   "cell_type": "code",
   "execution_count": 87,
   "outputs": [],
   "source": [
    "#USING GROUND-TRUTH ANGLES AND FRACTIONS\n",
    "\n",
    "for i in random_samples:\n",
    "    odf_gt = multi_tensor_odf(sphere.vertices, evals, angles=angle_pairs,\n",
    "                                  fractions=100*F[i])\n",
    "    \n",
    "    odf_actor = actor.odf_slicer(odf_gt[None, None, None, :], sphere=sphere, scale=0.5, colormap='plasma')\n",
    "    \n",
    "    #saving the image\n",
    "    scene = window.Scene()\n",
    "    odf_actor.display(y=0)\n",
    "    odf_actor.RotateX(90)\n",
    "    scene.add(odf_actor)\n",
    "    window.record(scene, out_path='visualization/noiseless_S/' + str(i) + '_S_noiseless_w_gt.png', size=(300, 300))"
   ],
   "metadata": {
    "collapsed": false,
    "ExecuteTime": {
     "end_time": "2023-12-05T21:37:48.807137400Z",
     "start_time": "2023-12-05T21:37:46.931227500Z"
    }
   },
   "id": "485e1e85cecdb826"
  },
  {
   "cell_type": "code",
   "execution_count": 118,
   "outputs": [],
   "source": [
    "peaks_gt = nib.load('real_data/peaks.nii').get_fdata()"
   ],
   "metadata": {
    "collapsed": false,
    "ExecuteTime": {
     "end_time": "2023-12-05T23:00:21.294674800Z",
     "start_time": "2023-12-05T23:00:21.242814700Z"
    }
   },
   "id": "e00e4a73efdea211"
  },
  {
   "cell_type": "code",
   "execution_count": 119,
   "outputs": [],
   "source": [
    "peaks_gt = peaks_gt[white_mask]"
   ],
   "metadata": {
    "collapsed": false,
    "ExecuteTime": {
     "end_time": "2023-12-05T23:00:21.498461800Z",
     "start_time": "2023-12-05T23:00:21.475917100Z"
    }
   },
   "id": "1f205a40d05ac7c"
  },
  {
   "cell_type": "code",
   "execution_count": 120,
   "outputs": [
    {
     "data": {
      "text/plain": "array([[0., 0., 0., ..., 0., 0., 0.],\n       [0., 0., 0., ..., 0., 0., 0.],\n       [0., 0., 0., ..., 0., 0., 0.],\n       ...,\n       [0., 0., 0., ..., 0., 0., 0.],\n       [0., 0., 0., ..., 0., 0., 0.],\n       [0., 0., 0., ..., 0., 0., 0.]])"
     },
     "execution_count": 120,
     "metadata": {},
     "output_type": "execute_result"
    }
   ],
   "source": [
    "peaks_gt"
   ],
   "metadata": {
    "collapsed": false,
    "ExecuteTime": {
     "end_time": "2023-12-05T23:00:21.765457900Z",
     "start_time": "2023-12-05T23:00:21.716168Z"
    }
   },
   "id": "b28e86ccf2ff3004"
  }
 ],
 "metadata": {
  "kernelspec": {
   "display_name": "Python 3",
   "language": "python",
   "name": "python3"
  },
  "language_info": {
   "codemirror_mode": {
    "name": "ipython",
    "version": 2
   },
   "file_extension": ".py",
   "mimetype": "text/x-python",
   "name": "python",
   "nbconvert_exporter": "python",
   "pygments_lexer": "ipython2",
   "version": "2.7.6"
  }
 },
 "nbformat": 4,
 "nbformat_minor": 5
}
