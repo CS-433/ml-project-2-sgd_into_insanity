{
 "cells": [
  {
   "cell_type": "code",
   "execution_count": 1,
   "id": "initial_id",
   "metadata": {
    "collapsed": true,
    "ExecuteTime": {
     "end_time": "2023-11-15T19:55:45.793277800Z",
     "start_time": "2023-11-15T19:55:43.078558300Z"
    }
   },
   "outputs": [],
   "source": [
    "import matplotlib.pyplot as plt\n",
    "import numpy as np\n",
    "\n",
    "from dipy.core.sphere import disperse_charges, HemiSphere\n",
    "from dipy.core.gradients import gradient_table\n",
    "from dipy.data import get_sphere\n",
    "from dipy.sims.voxel import multi_tensor, multi_tensor_odf\n",
    "from dipy.viz import window, actor"
   ]
  },
  {
   "cell_type": "code",
   "execution_count": 2,
   "outputs": [],
   "source": [
    "n_pts = 64\n",
    "theta = np.pi * np.random.rand(n_pts)\n",
    "phi = 2 * np.pi * np.random.rand(n_pts)\n",
    "hsph_initial = HemiSphere(theta=theta, phi=phi)"
   ],
   "metadata": {
    "collapsed": false,
    "ExecuteTime": {
     "end_time": "2023-11-15T19:55:48.085500100Z",
     "start_time": "2023-11-15T19:55:48.055170Z"
    }
   },
   "id": "5a1632f260f58556"
  },
  {
   "cell_type": "code",
   "execution_count": 3,
   "outputs": [],
   "source": [
    "hsph_updated, potential = disperse_charges(hsph_initial, 5000)"
   ],
   "metadata": {
    "collapsed": false,
    "ExecuteTime": {
     "end_time": "2023-11-15T19:56:29.272837600Z",
     "start_time": "2023-11-15T19:56:25.256218500Z"
    }
   },
   "id": "f831612c7a2d73b3"
  },
  {
   "cell_type": "code",
   "execution_count": 4,
   "outputs": [],
   "source": [
    "vertices = hsph_updated.vertices\n",
    "values = np.ones(vertices.shape[0])\n",
    "\n",
    "bvecs = np.vstack((vertices, vertices))\n",
    "bvals = np.hstack((1000 * values, 2500 * values))"
   ],
   "metadata": {
    "collapsed": false,
    "ExecuteTime": {
     "end_time": "2023-11-15T19:56:31.681556900Z",
     "start_time": "2023-11-15T19:56:31.648644500Z"
    }
   },
   "id": "7d076c0718a9daa0"
  },
  {
   "cell_type": "code",
   "execution_count": 5,
   "outputs": [],
   "source": [
    "bvecs = np.insert(bvecs, (0, bvecs.shape[0]), np.array([0, 0, 0]), axis=0)\n",
    "bvals = np.insert(bvals, (0, bvals.shape[0]), 0)"
   ],
   "metadata": {
    "collapsed": false,
    "ExecuteTime": {
     "end_time": "2023-11-15T19:56:39.147559200Z",
     "start_time": "2023-11-15T19:56:39.113430100Z"
    }
   },
   "id": "b5e6b59f2b2b2671"
  },
  {
   "cell_type": "code",
   "execution_count": 6,
   "outputs": [],
   "source": [
    "gtab = gradient_table(bvals, bvecs)"
   ],
   "metadata": {
    "collapsed": false,
    "ExecuteTime": {
     "end_time": "2023-11-15T19:56:44.526382Z",
     "start_time": "2023-11-15T19:56:44.495466300Z"
    }
   },
   "id": "80cb6eb52daef10c"
  },
  {
   "cell_type": "code",
   "execution_count": null,
   "outputs": [],
   "source": [],
   "metadata": {
    "collapsed": false
   },
   "id": "4f79a7eae811a338"
  }
 ],
 "metadata": {
  "kernelspec": {
   "display_name": "Python 3",
   "language": "python",
   "name": "python3"
  },
  "language_info": {
   "codemirror_mode": {
    "name": "ipython",
    "version": 2
   },
   "file_extension": ".py",
   "mimetype": "text/x-python",
   "name": "python",
   "nbconvert_exporter": "python",
   "pygments_lexer": "ipython2",
   "version": "2.7.6"
  }
 },
 "nbformat": 4,
 "nbformat_minor": 5
}
